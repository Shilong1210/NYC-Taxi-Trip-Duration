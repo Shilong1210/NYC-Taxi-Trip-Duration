{
 "cells": [
  {
   "cell_type": "markdown",
   "metadata": {},
   "source": [
    "# Group Member"
   ]
  },
  {
   "cell_type": "code",
   "execution_count": 38,
   "metadata": {},
   "outputs": [],
   "source": [
    "import pandas as pd\n",
    "import os\n",
    "import numpy as np # linear algebra\n",
    "import matplotlib.pyplot as plt\n",
    "import seaborn as sns\n",
    "import xgboost as xgb\n",
    "from sklearn.model_selection import train_test_split\n",
    "from sklearn.decomposition import PCA\n",
    "from sklearn.cluster import MiniBatchKMeans\n",
    "\n",
    "os.environ[\"GOOGLE_APPLICATION_CREDENTIALS\"]=\"./license/APMA4990-834091538ff1.json\""
   ]
  },
  {
   "cell_type": "markdown",
   "metadata": {},
   "source": [
    "# Data Gathering and Preparation"
   ]
  },
  {
   "cell_type": "markdown",
   "metadata": {},
   "source": [
    "## Data Pipeline"
   ]
  },
  {
   "cell_type": "code",
   "execution_count": 2,
   "metadata": {},
   "outputs": [],
   "source": [
    "from google.cloud import bigquery\n",
    "client = bigquery.Client()"
   ]
  },
  {
   "cell_type": "code",
   "execution_count": 71,
   "metadata": {},
   "outputs": [],
   "source": [
    "query = (\n",
    "    \"\"\"\n",
    "    SELECT pickup_datetime,dropoff_datetime,pickup_longitude,pickup_latitude,dropoff_longitude,dropoff_latitude,passenger_count,trip_distance,vendor_id,store_and_fwd_flag,\n",
    "    EXTRACT (DATE FROM pickup_datetime) as date,\n",
    "    EXTRACT (YEAR FROM pickup_datetime) as year,\n",
    "    TIMESTAMP_DIFF(dropoff_datetime, pickup_datetime, SECOND) as trip_duration\n",
    "    FROM `bigquery-public-data.new_york.tlc_yellow_trips_2016`\n",
    "    LIMIT 100000\n",
    "    \"\"\"\n",
    ")\n",
    "df=pd.io.gbq.read_gbq(query,dialect='standard')"
   ]
  },
  {
   "cell_type": "code",
   "execution_count": 55,
   "metadata": {},
   "outputs": [
    {
     "data": {
      "text/html": [
       "<div>\n",
       "<style scoped>\n",
       "    .dataframe tbody tr th:only-of-type {\n",
       "        vertical-align: middle;\n",
       "    }\n",
       "\n",
       "    .dataframe tbody tr th {\n",
       "        vertical-align: top;\n",
       "    }\n",
       "\n",
       "    .dataframe thead th {\n",
       "        text-align: right;\n",
       "    }\n",
       "</style>\n",
       "<table border=\"1\" class=\"dataframe\">\n",
       "  <thead>\n",
       "    <tr style=\"text-align: right;\">\n",
       "      <th></th>\n",
       "      <th>pickup_datetime</th>\n",
       "      <th>dropoff_datetime</th>\n",
       "      <th>pickup_longitude</th>\n",
       "      <th>pickup_latitude</th>\n",
       "      <th>dropoff_longitude</th>\n",
       "      <th>dropoff_latitude</th>\n",
       "      <th>rate_code</th>\n",
       "      <th>passenger_count</th>\n",
       "      <th>trip_distance</th>\n",
       "      <th>vendor_id</th>\n",
       "      <th>store_and_fwd_flag</th>\n",
       "      <th>date</th>\n",
       "      <th>year</th>\n",
       "      <th>travel_time</th>\n",
       "    </tr>\n",
       "  </thead>\n",
       "  <tbody>\n",
       "    <tr>\n",
       "      <th>0</th>\n",
       "      <td>2016-05-28 03:04:14+00:00</td>\n",
       "      <td>2016-05-28 03:24:03+00:00</td>\n",
       "      <td>-73.990921</td>\n",
       "      <td>40.719234</td>\n",
       "      <td>-73.873405</td>\n",
       "      <td>40.756737</td>\n",
       "      <td>1</td>\n",
       "      <td>1</td>\n",
       "      <td>8.10</td>\n",
       "      <td>1</td>\n",
       "      <td>N</td>\n",
       "      <td>2016-05-28</td>\n",
       "      <td>2016</td>\n",
       "      <td>1189</td>\n",
       "    </tr>\n",
       "    <tr>\n",
       "      <th>1</th>\n",
       "      <td>2016-02-23 15:28:58+00:00</td>\n",
       "      <td>2016-02-23 16:40:09+00:00</td>\n",
       "      <td>-73.818291</td>\n",
       "      <td>40.706432</td>\n",
       "      <td>-74.033928</td>\n",
       "      <td>40.720863</td>\n",
       "      <td>5</td>\n",
       "      <td>1</td>\n",
       "      <td>17.07</td>\n",
       "      <td>2</td>\n",
       "      <td>N</td>\n",
       "      <td>2016-02-23</td>\n",
       "      <td>2016</td>\n",
       "      <td>4271</td>\n",
       "    </tr>\n",
       "    <tr>\n",
       "      <th>2</th>\n",
       "      <td>2016-05-27 11:30:20+00:00</td>\n",
       "      <td>2016-05-27 12:06:21+00:00</td>\n",
       "      <td>-73.782135</td>\n",
       "      <td>40.644646</td>\n",
       "      <td>-73.959831</td>\n",
       "      <td>40.611912</td>\n",
       "      <td>1</td>\n",
       "      <td>1</td>\n",
       "      <td>16.80</td>\n",
       "      <td>1</td>\n",
       "      <td>N</td>\n",
       "      <td>2016-05-27</td>\n",
       "      <td>2016</td>\n",
       "      <td>2161</td>\n",
       "    </tr>\n",
       "    <tr>\n",
       "      <th>3</th>\n",
       "      <td>2016-02-14 13:50:25+00:00</td>\n",
       "      <td>2016-02-14 14:38:20+00:00</td>\n",
       "      <td>-73.790489</td>\n",
       "      <td>40.643917</td>\n",
       "      <td>-73.979950</td>\n",
       "      <td>40.642593</td>\n",
       "      <td>1</td>\n",
       "      <td>1</td>\n",
       "      <td>26.40</td>\n",
       "      <td>1</td>\n",
       "      <td>N</td>\n",
       "      <td>2016-02-14</td>\n",
       "      <td>2016</td>\n",
       "      <td>2875</td>\n",
       "    </tr>\n",
       "    <tr>\n",
       "      <th>4</th>\n",
       "      <td>2016-03-16 23:38:53+00:00</td>\n",
       "      <td>2016-03-17 00:22:37+00:00</td>\n",
       "      <td>-73.979179</td>\n",
       "      <td>40.759014</td>\n",
       "      <td>-73.831581</td>\n",
       "      <td>40.771317</td>\n",
       "      <td>1</td>\n",
       "      <td>1</td>\n",
       "      <td>12.20</td>\n",
       "      <td>1</td>\n",
       "      <td>N</td>\n",
       "      <td>2016-03-16</td>\n",
       "      <td>2016</td>\n",
       "      <td>2624</td>\n",
       "    </tr>\n",
       "  </tbody>\n",
       "</table>\n",
       "</div>"
      ],
      "text/plain": [
       "            pickup_datetime          dropoff_datetime  pickup_longitude  \\\n",
       "0 2016-05-28 03:04:14+00:00 2016-05-28 03:24:03+00:00        -73.990921   \n",
       "1 2016-02-23 15:28:58+00:00 2016-02-23 16:40:09+00:00        -73.818291   \n",
       "2 2016-05-27 11:30:20+00:00 2016-05-27 12:06:21+00:00        -73.782135   \n",
       "3 2016-02-14 13:50:25+00:00 2016-02-14 14:38:20+00:00        -73.790489   \n",
       "4 2016-03-16 23:38:53+00:00 2016-03-17 00:22:37+00:00        -73.979179   \n",
       "\n",
       "   pickup_latitude  dropoff_longitude  dropoff_latitude  rate_code  \\\n",
       "0        40.719234         -73.873405         40.756737          1   \n",
       "1        40.706432         -74.033928         40.720863          5   \n",
       "2        40.644646         -73.959831         40.611912          1   \n",
       "3        40.643917         -73.979950         40.642593          1   \n",
       "4        40.759014         -73.831581         40.771317          1   \n",
       "\n",
       "   passenger_count  trip_distance vendor_id store_and_fwd_flag       date  \\\n",
       "0                1           8.10         1                  N 2016-05-28   \n",
       "1                1          17.07         2                  N 2016-02-23   \n",
       "2                1          16.80         1                  N 2016-05-27   \n",
       "3                1          26.40         1                  N 2016-02-14   \n",
       "4                1          12.20         1                  N 2016-03-16   \n",
       "\n",
       "   year  travel_time  \n",
       "0  2016         1189  \n",
       "1  2016         4271  \n",
       "2  2016         2161  \n",
       "3  2016         2875  \n",
       "4  2016         2624  "
      ]
     },
     "execution_count": 55,
     "metadata": {},
     "output_type": "execute_result"
    }
   ],
   "source": [
    "df.head()"
   ]
  },
  {
   "cell_type": "code",
   "execution_count": 72,
   "metadata": {},
   "outputs": [
    {
     "data": {
      "text/plain": [
       "(100000, 13)"
      ]
     },
     "execution_count": 72,
     "metadata": {},
     "output_type": "execute_result"
    }
   ],
   "source": [
    "df.shape"
   ]
  },
  {
   "cell_type": "markdown",
   "metadata": {},
   "source": [
    "## Data Integrity Check"
   ]
  },
  {
   "cell_type": "markdown",
   "metadata": {},
   "source": [
    " - **pickup_datetime** - date and time when the meter was engaged\n",
    " - **dropoff_datetime** - date and time when the meter was disengaged\n",
    " - **pickup_longitude** - the longitude where the meter was engaged\n",
    " - **pickup_latitude** - the latitude where the meter was engaged\n",
    " - **dropoff_longitude** - the longitude where the meter was disengaged\n",
    " - **dropoff_latitude** - the latitude where the meter was disengaged\n",
    " - **passenger_count** - the number of passengers in the vehicle (driver entered value)\n",
    " - **trip_distance** - the elapsed trip distance in miles reported by the taximeter\n",
    " - **vendor_id** - a code indicating the provider associated with the trip record\n",
    " - **store_and_fwd_flag** - This flag indicates whether the trip record was held in vehicle memory before sending to the vendor because the vehicle did not have a connection to the server (Y=store and forward; N=not a store and forward trip)\n",
    " - **trip_duration** - duration of the trip in seconds"
   ]
  },
  {
   "cell_type": "code",
   "execution_count": 73,
   "metadata": {},
   "outputs": [
    {
     "data": {
      "text/html": [
       "<div>\n",
       "<style scoped>\n",
       "    .dataframe tbody tr th:only-of-type {\n",
       "        vertical-align: middle;\n",
       "    }\n",
       "\n",
       "    .dataframe tbody tr th {\n",
       "        vertical-align: top;\n",
       "    }\n",
       "\n",
       "    .dataframe thead th {\n",
       "        text-align: right;\n",
       "    }\n",
       "</style>\n",
       "<table border=\"1\" class=\"dataframe\">\n",
       "  <thead>\n",
       "    <tr style=\"text-align: right;\">\n",
       "      <th></th>\n",
       "      <th>pickup_datetime</th>\n",
       "      <th>dropoff_datetime</th>\n",
       "      <th>pickup_longitude</th>\n",
       "      <th>pickup_latitude</th>\n",
       "      <th>dropoff_longitude</th>\n",
       "      <th>dropoff_latitude</th>\n",
       "      <th>passenger_count</th>\n",
       "      <th>trip_distance</th>\n",
       "      <th>vendor_id</th>\n",
       "      <th>store_and_fwd_flag</th>\n",
       "      <th>date</th>\n",
       "      <th>year</th>\n",
       "      <th>trip_duration</th>\n",
       "    </tr>\n",
       "  </thead>\n",
       "  <tbody>\n",
       "    <tr>\n",
       "      <th>0</th>\n",
       "      <td>False</td>\n",
       "      <td>False</td>\n",
       "      <td>True</td>\n",
       "      <td>True</td>\n",
       "      <td>True</td>\n",
       "      <td>True</td>\n",
       "      <td>False</td>\n",
       "      <td>False</td>\n",
       "      <td>False</td>\n",
       "      <td>False</td>\n",
       "      <td>False</td>\n",
       "      <td>False</td>\n",
       "      <td>False</td>\n",
       "    </tr>\n",
       "  </tbody>\n",
       "</table>\n",
       "</div>"
      ],
      "text/plain": [
       "   pickup_datetime  dropoff_datetime  pickup_longitude  pickup_latitude  \\\n",
       "0            False             False              True             True   \n",
       "\n",
       "   dropoff_longitude  dropoff_latitude  passenger_count  trip_distance  \\\n",
       "0               True              True            False          False   \n",
       "\n",
       "   vendor_id  store_and_fwd_flag   date   year  trip_duration  \n",
       "0      False               False  False  False          False  "
      ]
     },
     "execution_count": 73,
     "metadata": {},
     "output_type": "execute_result"
    }
   ],
   "source": [
    "check_NAN_box = []\n",
    "\n",
    "for i in df.columns:\n",
    "    check_NAN_box.append(df[i].isnull().any())\n",
    "\n",
    "check_NAN_box = pd.DataFrame([check_NAN_box],columns=df.columns)\n",
    "check_NAN_box"
   ]
  },
  {
   "cell_type": "code",
   "execution_count": 75,
   "metadata": {},
   "outputs": [
    {
     "data": {
      "text/html": [
       "<div>\n",
       "<style scoped>\n",
       "    .dataframe tbody tr th:only-of-type {\n",
       "        vertical-align: middle;\n",
       "    }\n",
       "\n",
       "    .dataframe tbody tr th {\n",
       "        vertical-align: top;\n",
       "    }\n",
       "\n",
       "    .dataframe thead th {\n",
       "        text-align: right;\n",
       "    }\n",
       "</style>\n",
       "<table border=\"1\" class=\"dataframe\">\n",
       "  <thead>\n",
       "    <tr style=\"text-align: right;\">\n",
       "      <th></th>\n",
       "      <th>passenger_count</th>\n",
       "      <th>vendor_id</th>\n",
       "      <th>store_and_fwd_flag</th>\n",
       "      <th>year</th>\n",
       "    </tr>\n",
       "  </thead>\n",
       "  <tbody>\n",
       "    <tr>\n",
       "      <th>0</th>\n",
       "      <td>[1, 2, 5, 3, 4, 6, 0, 8, 7]</td>\n",
       "      <td>[1, 2, 3]</td>\n",
       "      <td>[N, Y]</td>\n",
       "      <td>[2016]</td>\n",
       "    </tr>\n",
       "  </tbody>\n",
       "</table>\n",
       "</div>"
      ],
      "text/plain": [
       "               passenger_count  vendor_id store_and_fwd_flag    year\n",
       "0  [1, 2, 5, 3, 4, 6, 0, 8, 7]  [1, 2, 3]             [N, Y]  [2016]"
      ]
     },
     "execution_count": 75,
     "metadata": {},
     "output_type": "execute_result"
    }
   ],
   "source": [
    "check_uni_box = []\n",
    "col = ['passenger_count','vendor_id','store_and_fwd_flag','year']\n",
    "\n",
    "for i in col:\n",
    "    check_uni_box.append(df[i].unique())\n",
    "\n",
    "check_uni_box = pd.DataFrame([check_uni_box],columns=col)\n",
    "check_uni_box"
   ]
  },
  {
   "cell_type": "code",
   "execution_count": null,
   "metadata": {},
   "outputs": [],
   "source": [
    "def preprocess(data):\n",
    "    "
   ]
  },
  {
   "cell_type": "markdown",
   "metadata": {},
   "source": [
    "## Feature Engineering"
   ]
  },
  {
   "cell_type": "code",
   "execution_count": null,
   "metadata": {},
   "outputs": [],
   "source": []
  },
  {
   "cell_type": "markdown",
   "metadata": {},
   "source": [
    "# Model Selection, Comparison and Cross Validation"
   ]
  },
  {
   "cell_type": "markdown",
   "metadata": {},
   "source": [
    "## Exploratory Analysis"
   ]
  },
  {
   "cell_type": "code",
   "execution_count": null,
   "metadata": {},
   "outputs": [],
   "source": []
  },
  {
   "cell_type": "markdown",
   "metadata": {},
   "source": [
    "## Model Selection"
   ]
  },
  {
   "cell_type": "code",
   "execution_count": null,
   "metadata": {},
   "outputs": [],
   "source": []
  }
 ],
 "metadata": {
  "kernelspec": {
   "display_name": "Python 3",
   "language": "python",
   "name": "python3"
  },
  "language_info": {
   "codemirror_mode": {
    "name": "ipython",
    "version": 3
   },
   "file_extension": ".py",
   "mimetype": "text/x-python",
   "name": "python",
   "nbconvert_exporter": "python",
   "pygments_lexer": "ipython3",
   "version": "3.6.8"
  }
 },
 "nbformat": 4,
 "nbformat_minor": 2
}
