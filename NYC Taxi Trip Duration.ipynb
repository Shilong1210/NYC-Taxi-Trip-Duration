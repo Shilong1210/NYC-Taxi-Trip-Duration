{
 "cells": [
  {
   "cell_type": "markdown",
   "metadata": {},
   "source": [
    "# Group Member"
   ]
  },
  {
   "cell_type": "code",
   "execution_count": 1,
   "metadata": {},
   "outputs": [],
   "source": [
    "import pandas as pd\n",
    "import os\n",
    "import numpy as np # linear algebra\n",
    "import matplotlib.pyplot as plt\n",
    "import seaborn as sns\n",
    "import xgboost as xgb\n",
    "from sklearn.model_selection import train_test_split\n",
    "from sklearn.decomposition import PCA\n",
    "from sklearn.cluster import MiniBatchKMeans\n",
    "import xgboost as xgb\n",
    "from sklearn.linear_model import LinearRegression\n",
    "from sklearn.ensemble import RandomForestRegressor\n",
    "from sklearn.metrics import r2_score\n",
    "from google.cloud import bigquery\n",
    "import calendar\n",
    "import math\n",
    "\n",
    "pd.set_option('display.max_columns', 500)\n",
    "os.environ[\"GOOGLE_APPLICATION_CREDENTIALS\"]=\"./license/APMA4990-834091538ff1.json\""
   ]
  },
  {
   "cell_type": "markdown",
   "metadata": {},
   "source": [
    "# Data Gathering and Preparation"
   ]
  },
  {
   "cell_type": "markdown",
   "metadata": {},
   "source": [
    "## Data Pipeline"
   ]
  },
  {
   "cell_type": "code",
   "execution_count": 2,
   "metadata": {},
   "outputs": [],
   "source": [
    "## No need if there is local data\n",
    "\n",
    "client = bigquery.Client()\n",
    "\n",
    "query = (\n",
    "    \"\"\"\n",
    "CREATE TEMP FUNCTION RADIANS(x FLOAT64) AS (\n",
    "  ACOS(-1) * x / 180\n",
    ");\n",
    "CREATE TEMP FUNCTION RADIANS_TO_KM(x FLOAT64) AS (\n",
    "  6371 * 2 * ASIN(SQRT(x))\n",
    ");\n",
    "CREATE TEMP FUNCTION HAVERSINE(lat1 FLOAT64, long1 FLOAT64,\n",
    "                               lat2 FLOAT64, long2 FLOAT64) AS (\n",
    "  RADIANS_TO_KM(\n",
    "        COS(RADIANS(lat1)) * COS(RADIANS(lat2)) *\n",
    "        POW(SIN(RADIANS(long1)/2 - RADIANS(long2)/2),2) +\n",
    "        POW(SIN(RADIANS(lat1)/2 - RADIANS(lat2)/2),2))\n",
    ");\n",
    "    \n",
    "CREATE TEMP FUNCTION EUCLIDEAN(lat1 FLOAT64, long1 FLOAT64,\n",
    "                               lat2 FLOAT64, long2 FLOAT64) AS (\n",
    "  SQRT(POW((long1 - long2),2) + POW((lat1 - lat2), 2))                           \n",
    ");\n",
    "    \n",
    "    SELECT * FROM \n",
    "    (\n",
    "        SELECT pickup_datetime,dropoff_datetime,pickup_longitude,pickup_latitude,dropoff_longitude,dropoff_latitude,\n",
    "        passenger_count,vendor_id,store_and_fwd_flag,\n",
    "        EXTRACT (DATE FROM pickup_datetime) as date,\n",
    "        EXTRACT (MONTH FROM pickup_datetime) as month,\n",
    "        EXTRACT (DAYOFWEEK FROM pickup_datetime) as day,\n",
    "        EXTRACT (YEAR FROM pickup_datetime) as year,\n",
    "        EXTRACT (HOUR from pickup_datetime) as hour,\n",
    "        EUCLIDEAN(dropoff_latitude, dropoff_longitude, pickup_latitude, pickup_longitude) as euc_distance,\n",
    "        HAVERSINE(dropoff_latitude, dropoff_longitude, pickup_latitude, pickup_longitude) as hav_distance,\n",
    "        TIMESTAMP_DIFF(dropoff_datetime, pickup_datetime, SECOND) as trip_duration\n",
    "        FROM `bigquery-public-data.new_york.tlc_yellow_trips_2016`\n",
    "        \n",
    "        WHERE pickup_longitude BETWEEN -75 AND -73\n",
    "        AND dropoff_longitude BETWEEN -75 AND -73\n",
    "        AND pickup_latitude BETWEEN 40 AND 42\n",
    "        AND dropoff_latitude BETWEEN 40 AND 42\n",
    "        AND HAVERSINE(dropoff_latitude, dropoff_longitude, pickup_latitude, pickup_longitude) BETWEEN 0.1 AND 30\n",
    "        AND passenger_count BETWEEN 1 AND 4\n",
    "        AND TIMESTAMP_DIFF(dropoff_datetime, pickup_datetime, SECOND) BETWEEN 60 AND 3600\n",
    "    ) trip\n",
    "    INNER JOIN\n",
    "    (\n",
    "     SELECT CONCAT(year,'-',mo,'-',da) as date2,temp,visib,wdsp,gust,max,min,prcp,sndp,fog,rain_drizzle,snow_ice_pellets,hail,thunder\n",
    "     FROM `bigquery-public-data.noaa_gsod.gsod2016` \n",
    "     WHERE stn = '725053'\n",
    "     AND temp != 9999.9\n",
    "     AND visib != 999.9\n",
    "     AND wdsp != '999.9'\n",
    "     AND gust != 999.9\n",
    "     AND max != 9999.9\n",
    "     AND min != 9999.9\n",
    "     AND prcp != 99.99\n",
    "     AND sndp != 999.9\n",
    "    ) weather\n",
    "    on CAST(trip.date AS STRING) = weather.date2\n",
    "    \n",
    "    ORDER BY RAND()\n",
    "    LIMIT 100000\n",
    "    \"\"\"\n",
    ")\n",
    "\n",
    "df=pd.io.gbq.read_gbq(query,dialect='standard')"
   ]
  },
  {
   "cell_type": "code",
   "execution_count": null,
   "metadata": {},
   "outputs": [],
   "source": [
    "# df.to_csv('data.csv',index=False)\n",
    "df = pd.read_csv('data.csv')"
   ]
  },
  {
   "cell_type": "code",
   "execution_count": 4,
   "metadata": {},
   "outputs": [
    {
     "data": {
      "text/html": [
       "<div>\n",
       "<style scoped>\n",
       "    .dataframe tbody tr th:only-of-type {\n",
       "        vertical-align: middle;\n",
       "    }\n",
       "\n",
       "    .dataframe tbody tr th {\n",
       "        vertical-align: top;\n",
       "    }\n",
       "\n",
       "    .dataframe thead th {\n",
       "        text-align: right;\n",
       "    }\n",
       "</style>\n",
       "<table border=\"1\" class=\"dataframe\">\n",
       "  <thead>\n",
       "    <tr style=\"text-align: right;\">\n",
       "      <th></th>\n",
       "      <th>pickup_datetime</th>\n",
       "      <th>dropoff_datetime</th>\n",
       "      <th>pickup_longitude</th>\n",
       "      <th>pickup_latitude</th>\n",
       "      <th>dropoff_longitude</th>\n",
       "      <th>dropoff_latitude</th>\n",
       "      <th>passenger_count</th>\n",
       "      <th>vendor_id</th>\n",
       "      <th>store_and_fwd_flag</th>\n",
       "      <th>date</th>\n",
       "      <th>month</th>\n",
       "      <th>day</th>\n",
       "      <th>year</th>\n",
       "      <th>hour</th>\n",
       "      <th>euc_distance</th>\n",
       "      <th>hav_distance</th>\n",
       "      <th>trip_duration</th>\n",
       "      <th>date2</th>\n",
       "      <th>temp</th>\n",
       "      <th>visib</th>\n",
       "      <th>wdsp</th>\n",
       "      <th>gust</th>\n",
       "      <th>max</th>\n",
       "      <th>min</th>\n",
       "      <th>prcp</th>\n",
       "      <th>sndp</th>\n",
       "      <th>fog</th>\n",
       "      <th>rain_drizzle</th>\n",
       "      <th>snow_ice_pellets</th>\n",
       "      <th>hail</th>\n",
       "      <th>thunder</th>\n",
       "    </tr>\n",
       "  </thead>\n",
       "  <tbody>\n",
       "    <tr>\n",
       "      <th>0</th>\n",
       "      <td>2016-01-27 20:31:43+00:00</td>\n",
       "      <td>2016-01-27 20:34:00+00:00</td>\n",
       "      <td>-74.006165</td>\n",
       "      <td>40.734589</td>\n",
       "      <td>-74.002579</td>\n",
       "      <td>40.739536</td>\n",
       "      <td>1</td>\n",
       "      <td>1</td>\n",
       "      <td>N</td>\n",
       "      <td>2016-01-27</td>\n",
       "      <td>1</td>\n",
       "      <td>4</td>\n",
       "      <td>2016</td>\n",
       "      <td>20</td>\n",
       "      <td>0.006110</td>\n",
       "      <td>0.627651</td>\n",
       "      <td>137</td>\n",
       "      <td>2016-01-27</td>\n",
       "      <td>43.9</td>\n",
       "      <td>9.9</td>\n",
       "      <td>6.2</td>\n",
       "      <td>22.0</td>\n",
       "      <td>48.0</td>\n",
       "      <td>37.9</td>\n",
       "      <td>0.0</td>\n",
       "      <td>16.9</td>\n",
       "      <td>0</td>\n",
       "      <td>1</td>\n",
       "      <td>0</td>\n",
       "      <td>0</td>\n",
       "      <td>0</td>\n",
       "    </tr>\n",
       "    <tr>\n",
       "      <th>1</th>\n",
       "      <td>2016-01-26 20:31:09+00:00</td>\n",
       "      <td>2016-01-26 20:33:03+00:00</td>\n",
       "      <td>-73.957588</td>\n",
       "      <td>40.776600</td>\n",
       "      <td>-73.962326</td>\n",
       "      <td>40.774696</td>\n",
       "      <td>1</td>\n",
       "      <td>1</td>\n",
       "      <td>N</td>\n",
       "      <td>2016-01-26</td>\n",
       "      <td>1</td>\n",
       "      <td>3</td>\n",
       "      <td>2016</td>\n",
       "      <td>20</td>\n",
       "      <td>0.005106</td>\n",
       "      <td>0.451622</td>\n",
       "      <td>114</td>\n",
       "      <td>2016-01-26</td>\n",
       "      <td>41.4</td>\n",
       "      <td>9.8</td>\n",
       "      <td>5.1</td>\n",
       "      <td>25.1</td>\n",
       "      <td>48.0</td>\n",
       "      <td>28.0</td>\n",
       "      <td>0.0</td>\n",
       "      <td>18.9</td>\n",
       "      <td>0</td>\n",
       "      <td>0</td>\n",
       "      <td>0</td>\n",
       "      <td>0</td>\n",
       "      <td>0</td>\n",
       "    </tr>\n",
       "    <tr>\n",
       "      <th>2</th>\n",
       "      <td>2016-01-27 10:43:55+00:00</td>\n",
       "      <td>2016-01-27 11:00:09+00:00</td>\n",
       "      <td>-73.968323</td>\n",
       "      <td>40.758636</td>\n",
       "      <td>-73.981621</td>\n",
       "      <td>40.773739</td>\n",
       "      <td>1</td>\n",
       "      <td>1</td>\n",
       "      <td>N</td>\n",
       "      <td>2016-01-27</td>\n",
       "      <td>1</td>\n",
       "      <td>4</td>\n",
       "      <td>2016</td>\n",
       "      <td>10</td>\n",
       "      <td>0.020123</td>\n",
       "      <td>2.018489</td>\n",
       "      <td>974</td>\n",
       "      <td>2016-01-27</td>\n",
       "      <td>43.9</td>\n",
       "      <td>9.9</td>\n",
       "      <td>6.2</td>\n",
       "      <td>22.0</td>\n",
       "      <td>48.0</td>\n",
       "      <td>37.9</td>\n",
       "      <td>0.0</td>\n",
       "      <td>16.9</td>\n",
       "      <td>0</td>\n",
       "      <td>1</td>\n",
       "      <td>0</td>\n",
       "      <td>0</td>\n",
       "      <td>0</td>\n",
       "    </tr>\n",
       "    <tr>\n",
       "      <th>3</th>\n",
       "      <td>2016-01-29 23:46:17+00:00</td>\n",
       "      <td>2016-01-29 23:53:13+00:00</td>\n",
       "      <td>-74.000053</td>\n",
       "      <td>40.743515</td>\n",
       "      <td>-74.004303</td>\n",
       "      <td>40.751884</td>\n",
       "      <td>1</td>\n",
       "      <td>1</td>\n",
       "      <td>N</td>\n",
       "      <td>2016-01-29</td>\n",
       "      <td>1</td>\n",
       "      <td>6</td>\n",
       "      <td>2016</td>\n",
       "      <td>23</td>\n",
       "      <td>0.009387</td>\n",
       "      <td>0.997118</td>\n",
       "      <td>416</td>\n",
       "      <td>2016-01-29</td>\n",
       "      <td>38.3</td>\n",
       "      <td>9.5</td>\n",
       "      <td>5.5</td>\n",
       "      <td>22.9</td>\n",
       "      <td>42.1</td>\n",
       "      <td>32.0</td>\n",
       "      <td>0.0</td>\n",
       "      <td>5.9</td>\n",
       "      <td>0</td>\n",
       "      <td>0</td>\n",
       "      <td>0</td>\n",
       "      <td>0</td>\n",
       "      <td>0</td>\n",
       "    </tr>\n",
       "    <tr>\n",
       "      <th>4</th>\n",
       "      <td>2016-01-30 10:19:14+00:00</td>\n",
       "      <td>2016-01-30 10:41:46+00:00</td>\n",
       "      <td>-73.961372</td>\n",
       "      <td>40.774693</td>\n",
       "      <td>-74.007011</td>\n",
       "      <td>40.717377</td>\n",
       "      <td>1</td>\n",
       "      <td>1</td>\n",
       "      <td>N</td>\n",
       "      <td>2016-01-30</td>\n",
       "      <td>1</td>\n",
       "      <td>7</td>\n",
       "      <td>2016</td>\n",
       "      <td>10</td>\n",
       "      <td>0.073267</td>\n",
       "      <td>7.443124</td>\n",
       "      <td>1352</td>\n",
       "      <td>2016-01-30</td>\n",
       "      <td>32.8</td>\n",
       "      <td>10.0</td>\n",
       "      <td>6.0</td>\n",
       "      <td>22.0</td>\n",
       "      <td>41.0</td>\n",
       "      <td>28.0</td>\n",
       "      <td>0.0</td>\n",
       "      <td>5.9</td>\n",
       "      <td>0</td>\n",
       "      <td>0</td>\n",
       "      <td>0</td>\n",
       "      <td>0</td>\n",
       "      <td>0</td>\n",
       "    </tr>\n",
       "  </tbody>\n",
       "</table>\n",
       "</div>"
      ],
      "text/plain": [
       "            pickup_datetime          dropoff_datetime  pickup_longitude  \\\n",
       "0 2016-01-27 20:31:43+00:00 2016-01-27 20:34:00+00:00        -74.006165   \n",
       "1 2016-01-26 20:31:09+00:00 2016-01-26 20:33:03+00:00        -73.957588   \n",
       "2 2016-01-27 10:43:55+00:00 2016-01-27 11:00:09+00:00        -73.968323   \n",
       "3 2016-01-29 23:46:17+00:00 2016-01-29 23:53:13+00:00        -74.000053   \n",
       "4 2016-01-30 10:19:14+00:00 2016-01-30 10:41:46+00:00        -73.961372   \n",
       "\n",
       "   pickup_latitude  dropoff_longitude  dropoff_latitude  passenger_count  \\\n",
       "0        40.734589         -74.002579         40.739536                1   \n",
       "1        40.776600         -73.962326         40.774696                1   \n",
       "2        40.758636         -73.981621         40.773739                1   \n",
       "3        40.743515         -74.004303         40.751884                1   \n",
       "4        40.774693         -74.007011         40.717377                1   \n",
       "\n",
       "  vendor_id store_and_fwd_flag       date  month  day  year  hour  \\\n",
       "0         1                  N 2016-01-27      1    4  2016    20   \n",
       "1         1                  N 2016-01-26      1    3  2016    20   \n",
       "2         1                  N 2016-01-27      1    4  2016    10   \n",
       "3         1                  N 2016-01-29      1    6  2016    23   \n",
       "4         1                  N 2016-01-30      1    7  2016    10   \n",
       "\n",
       "   euc_distance  hav_distance  trip_duration       date2  temp  visib wdsp  \\\n",
       "0      0.006110      0.627651            137  2016-01-27  43.9    9.9  6.2   \n",
       "1      0.005106      0.451622            114  2016-01-26  41.4    9.8  5.1   \n",
       "2      0.020123      2.018489            974  2016-01-27  43.9    9.9  6.2   \n",
       "3      0.009387      0.997118            416  2016-01-29  38.3    9.5  5.5   \n",
       "4      0.073267      7.443124           1352  2016-01-30  32.8   10.0  6.0   \n",
       "\n",
       "   gust   max   min  prcp  sndp fog rain_drizzle snow_ice_pellets hail thunder  \n",
       "0  22.0  48.0  37.9   0.0  16.9   0            1                0    0       0  \n",
       "1  25.1  48.0  28.0   0.0  18.9   0            0                0    0       0  \n",
       "2  22.0  48.0  37.9   0.0  16.9   0            1                0    0       0  \n",
       "3  22.9  42.1  32.0   0.0   5.9   0            0                0    0       0  \n",
       "4  22.0  41.0  28.0   0.0   5.9   0            0                0    0       0  "
      ]
     },
     "execution_count": 4,
     "metadata": {},
     "output_type": "execute_result"
    }
   ],
   "source": [
    "df.head()"
   ]
  },
  {
   "cell_type": "code",
   "execution_count": 5,
   "metadata": {},
   "outputs": [
    {
     "data": {
      "text/plain": [
       "(100000, 31)"
      ]
     },
     "execution_count": 5,
     "metadata": {},
     "output_type": "execute_result"
    }
   ],
   "source": [
    "df.shape"
   ]
  },
  {
   "cell_type": "markdown",
   "metadata": {},
   "source": [
    "We fetch data directly from Big Query: `bigquery-public-data.new_york.tlc_yellow_trips_2016`, but delete some useless and unreliable features: payment_type, fare_amount, extra, mta_tax, imp_surcharge, tip_amount, tolls_amount and total_amount from the original dataset. Then we add month, year and trip_duration as additional features."
   ]
  },
  {
   "cell_type": "markdown",
   "metadata": {},
   "source": [
    "## Data Integrity Check"
   ]
  },
  {
   "cell_type": "markdown",
   "metadata": {},
   "source": [
    " - **pickup_datetime** - date and time when the meter was engaged\n",
    " - **dropoff_datetime** - date and time when the meter was disengaged\n",
    " - **pickup_longitude** - the longitude where the meter was engaged\n",
    " - **pickup_latitude** - the latitude where the meter was engaged\n",
    " - **dropoff_longitude** - the longitude where the meter was disengaged\n",
    " - **dropoff_latitude** - the latitude where the meter was disengaged\n",
    " - **passenger_count** - the number of passengers in the vehicle (driver entered value)\n",
    " - **vendor_id** - a code indicating the provider associated with the trip record\n",
    " - **store_and_fwd_flag** - This flag indicates whether the trip record was held in vehicle memory before sending to the vendor because the vehicle did not have a connection to the server (Y=store and forward; N=not a store and forward trip)\n",
    " - **trip_duration** - duration of the trip in seconds"
   ]
  },
  {
   "cell_type": "code",
   "execution_count": 6,
   "metadata": {},
   "outputs": [
    {
     "data": {
      "text/plain": [
       "array([False])"
      ]
     },
     "execution_count": 6,
     "metadata": {},
     "output_type": "execute_result"
    }
   ],
   "source": [
    "check_NAN_box = []\n",
    "\n",
    "for i in df.columns:\n",
    "    check_NAN_box.append(df[i].isnull().any())\n",
    "\n",
    "check_NAN_box = pd.DataFrame([check_NAN_box],columns=df.columns)\n",
    "np.unique(check_NAN_box.values)"
   ]
  },
  {
   "cell_type": "code",
   "execution_count": 7,
   "metadata": {},
   "outputs": [
    {
     "data": {
      "text/html": [
       "<div>\n",
       "<style scoped>\n",
       "    .dataframe tbody tr th:only-of-type {\n",
       "        vertical-align: middle;\n",
       "    }\n",
       "\n",
       "    .dataframe tbody tr th {\n",
       "        vertical-align: top;\n",
       "    }\n",
       "\n",
       "    .dataframe thead th {\n",
       "        text-align: right;\n",
       "    }\n",
       "</style>\n",
       "<table border=\"1\" class=\"dataframe\">\n",
       "  <thead>\n",
       "    <tr style=\"text-align: right;\">\n",
       "      <th></th>\n",
       "      <th>vendor_id</th>\n",
       "      <th>store_and_fwd_flag</th>\n",
       "      <th>year</th>\n",
       "      <th>fog</th>\n",
       "      <th>rain_drizzle</th>\n",
       "      <th>snow_ice_pellets</th>\n",
       "      <th>hail</th>\n",
       "      <th>thunder</th>\n",
       "    </tr>\n",
       "  </thead>\n",
       "  <tbody>\n",
       "    <tr>\n",
       "      <th>0</th>\n",
       "      <td>[1, 2]</td>\n",
       "      <td>[N, Y]</td>\n",
       "      <td>[2016]</td>\n",
       "      <td>[0, 1]</td>\n",
       "      <td>[1, 0]</td>\n",
       "      <td>[0, 1]</td>\n",
       "      <td>[0]</td>\n",
       "      <td>[0]</td>\n",
       "    </tr>\n",
       "  </tbody>\n",
       "</table>\n",
       "</div>"
      ],
      "text/plain": [
       "  vendor_id store_and_fwd_flag    year     fog rain_drizzle snow_ice_pellets  \\\n",
       "0    [1, 2]             [N, Y]  [2016]  [0, 1]       [1, 0]           [0, 1]   \n",
       "\n",
       "  hail thunder  \n",
       "0  [0]     [0]  "
      ]
     },
     "execution_count": 7,
     "metadata": {},
     "output_type": "execute_result"
    }
   ],
   "source": [
    "check_uni_box = []\n",
    "col = ['vendor_id','store_and_fwd_flag','year','fog','rain_drizzle','snow_ice_pellets','hail','thunder']\n",
    "\n",
    "for i in col:\n",
    "    check_uni_box.append(df[i].unique())\n",
    "\n",
    "check_uni_box = pd.DataFrame([check_uni_box],columns=col)\n",
    "check_uni_box"
   ]
  },
  {
   "cell_type": "code",
   "execution_count": 29,
   "metadata": {},
   "outputs": [],
   "source": [
    "no_use = ['pickup_datetime','dropoff_datetime','date','date2']\n",
    "feature_names = [f for f in data.columns if f not in no_use]\n",
    "\n",
    "def preprocess(data):\n",
    "    tmp = data[data['year']==2016]\n",
    "    tmp = tmp[tmp['vendor_id'].isin(['1','2','3'])]\n",
    "    tmp = tmp[tmp['store_and_fwd_flag'].isin(['Y','N'])]\n",
    "    tmp = tmp[tmp['fog'].isin(['0','1'])]\n",
    "    tmp = tmp[tmp['rain_drizzle'].isin(['0','1'])]\n",
    "    tmp = tmp[tmp['snow_ice_pellets'].isin(['0','1'])]\n",
    "    tmp = tmp[tmp['hail'].isin(['0','1'])]\n",
    "    tmp = tmp[tmp['thunder'].isin(['0','1'])]\n",
    "    \n",
    "    tmp['store_and_fwd_flag'] = 1 * (tmp['store_and_fwd_flag'].values == 'Y')\n",
    "    tmp['vendor_id'] = tmp['vendor_id'].astype(int,copy=True,errors='raise') \n",
    "    tmp['wdsp'] = tmp['wdsp'].astype(float,copy=True,errors='raise')\n",
    "    tmp['fog'] = tmp['fog'].astype(int,copy=True,errors='raise')\n",
    "    tmp['rain_drizzle'] = tmp['rain_drizzle'].astype(int,copy=True,errors='raise')\n",
    "    tmp['snow_ice_pellets'] = tmp['snow_ice_pellets'].astype(int,copy=True,errors='raise')\n",
    "    tmp['hail'] = tmp['hail'].astype(int,copy=True,errors='raise')\n",
    "    tmp['thunder'] = tmp['thunder'].astype(int,copy=True,errors='raise')\n",
    "    \n",
    "    return tmp[feature_names]\n",
    "\n",
    "data = preprocess(df)"
   ]
  },
  {
   "cell_type": "code",
   "execution_count": 30,
   "metadata": {},
   "outputs": [
    {
     "data": {
      "text/plain": [
       "(100000, 27)"
      ]
     },
     "execution_count": 30,
     "metadata": {},
     "output_type": "execute_result"
    }
   ],
   "source": [
    "data.shape"
   ]
  },
  {
   "cell_type": "markdown",
   "metadata": {},
   "source": [
    "## Feature Engineering"
   ]
  },
  {
   "cell_type": "markdown",
   "metadata": {},
   "source": [
    "### Trip distance and duration distribution"
   ]
  },
  {
   "cell_type": "code",
   "execution_count": 10,
   "metadata": {},
   "outputs": [
    {
     "data": {
      "image/png": "[encoded data removed]",
      "text/plain": [
       "<Figure size 720x360 with 2 Axes>"
      ]
     },
     "metadata": {
      "needs_background": "light"
     },
     "output_type": "display_data"
    }
   ],
   "source": [
    "fig, ax = plt.subplots(1, 2, figsize=(10,5))\n",
    "\n",
    "ax[0].hist(data['hav_distance'].values, bins=300)\n",
    "ax[0].set_xlabel('trip distance(km)')\n",
    "ax[0].set_ylabel('number of records')\n",
    "\n",
    "ax[1].hist(data['trip_duration'].values, bins=60)\n",
    "ax[1].set_xlabel('trip duration(s)')\n",
    "ax[1].set_ylabel('number of records')\n",
    "\n",
    "plt.show()"
   ]
  },
  {
   "cell_type": "code",
   "execution_count": 11,
   "metadata": {},
   "outputs": [
    {
     "data": {
      "text/plain": [
       "<matplotlib.axes._subplots.AxesSubplot at 0x18d976af4e0>"
      ]
     },
     "execution_count": 11,
     "metadata": {},
     "output_type": "execute_result"
    },
    {
     "data": {
      "image/png": "[encoded data removed]",
      "text/plain": [
       "<Figure size 432x288 with 1 Axes>"
      ]
     },
     "metadata": {
      "needs_background": "light"
     },
     "output_type": "display_data"
    }
   ],
   "source": [
    "data.plot(x='hav_distance',y='trip_duration',kind='scatter')"
   ]
  },
  {
   "cell_type": "markdown",
   "metadata": {},
   "source": [
    "### Correlation"
   ]
  },
  {
   "cell_type": "code",
   "execution_count": 12,
   "metadata": {},
   "outputs": [
    {
     "data": {
      "text/plain": [
       "<matplotlib.axes._subplots.AxesSubplot at 0x18d97f8de10>"
      ]
     },
     "execution_count": 12,
     "metadata": {},
     "output_type": "execute_result"
    },
    {
     "data": {
      "image/png": "[encoded data removed]",
      "text/plain": [
       "<Figure size 432x288 with 2 Axes>"
      ]
     },
     "metadata": {
      "needs_background": "light"
     },
     "output_type": "display_data"
    }
   ],
   "source": [
    "corr = data.corr()\n",
    "sns.heatmap(corr)"
   ]
  },
  {
   "cell_type": "markdown",
   "metadata": {},
   "source": [
    "### Trip frequency"
   ]
  },
  {
   "cell_type": "code",
   "execution_count": 15,
   "metadata": {},
   "outputs": [
    {
     "data": {
      "image/png": "[encoded data removed]",
      "text/plain": [
       "<Figure size 432x288 with 1 Axes>"
      ]
     },
     "metadata": {
      "needs_background": "light"
     },
     "output_type": "display_data"
    }
   ],
   "source": [
    "weekDays = (\"Monday\",\"Tuesday\",\"Wednesday\",\"Thursday\",\"Friday\",\"Saturday\",\"Sunday\")\n",
    "\n",
    "plt.plot(data.groupby('day').count(),'o-')\n",
    "plt.title('Trip frequency(week)')\n",
    "plt.ylabel('number of records')\n",
    "plt.xticks(np.arange(1,8),weekDays)\n",
    "plt.show()"
   ]
  },
  {
   "cell_type": "markdown",
   "metadata": {},
   "source": [
    "### Start point distribution"
   ]
  },
  {
   "cell_type": "code",
   "execution_count": 61,
   "metadata": {},
   "outputs": [
    {
     "data": {
      "image/png": "[encoded data removed]",
      "text/plain": [
       "<Figure size 432x288 with 1 Axes>"
      ]
     },
     "metadata": {
      "needs_background": "light"
     },
     "output_type": "display_data"
    }
   ],
   "source": [
    "city_long_border = (-74.03, -73.75)\n",
    "city_lat_border = (40.63, 40.85)\n",
    "plt.scatter(data['pickup_longitude'].values[:len(data)], data['pickup_latitude'].values[:len(data)],\n",
    "              color='blue', s=1, label='train', alpha=0.1)\n",
    "plt.ylabel('latitude')\n",
    "plt.xlabel('longitude')\n",
    "plt.ylim(city_lat_border)\n",
    "plt.xlim(city_long_border)\n",
    "plt.show()"
   ]
  },
  {
   "cell_type": "markdown",
   "metadata": {},
   "source": [
    "# Model Selection, Comparison and Cross Validation"
   ]
  },
  {
   "cell_type": "markdown",
   "metadata": {},
   "source": [
    "## Exploratory Analysis"
   ]
  },
  {
   "cell_type": "code",
   "execution_count": null,
   "metadata": {},
   "outputs": [],
   "source": []
  },
  {
   "cell_type": "markdown",
   "metadata": {},
   "source": [
    "## Model Selection"
   ]
  },
  {
   "cell_type": "code",
   "execution_count": 36,
   "metadata": {},
   "outputs": [],
   "source": [
    "X = data.drop('trip_duration',axis=1)\n",
    "Y = data['trip_duration']\n",
    "X_train,X_test,Y_train,Y_test = train_test_split(X,Y,test_size=0.2,random_state=0)\n",
    "X_train,X_val,Y_train,Y_val = train_test_split(X_train,Y_train,test_size=0.2,random_state=0)"
   ]
  },
  {
   "cell_type": "markdown",
   "metadata": {},
   "source": [
    "### XGBOOST"
   ]
  },
  {
   "cell_type": "code",
   "execution_count": 38,
   "metadata": {},
   "outputs": [],
   "source": [
    "dtrain = xgb.DMatrix(X_train, label=Y_train)\n",
    "dvalid = xgb.DMatrix(X_val, label=Y_val)\n",
    "dtest = xgb.DMatrix(X_test)\n",
    "watchlist = [(dtrain, 'train'), (dvalid, 'valid')]\n",
    "\n",
    "# Try different parameters! My favorite is random search :)\n",
    "xgb_pars = {'min_child_weight': 50, 'eta': 0.3, 'colsample_bytree': 0.3, 'max_depth': 10,\n",
    "            'subsample': 0.8, 'lambda': 1., 'nthread': 4, 'booster' : 'gbtree', 'silent': 1,\n",
    "            'eval_metric': 'rmse', 'objective': 'reg:linear'}"
   ]
  },
  {
   "cell_type": "code",
   "execution_count": 53,
   "metadata": {},
   "outputs": [
    {
     "name": "stdout",
     "output_type": "stream",
     "text": [
      "[0]\ttrain-rmse:808.964\tvalid-rmse:807.272\n",
      "Multiple eval metrics have been passed: 'valid-rmse' will be used for early stopping.\n",
      "\n",
      "Will train until valid-rmse hasn't improved in 50 rounds.\n",
      "[10]\ttrain-rmse:294.782\tvalid-rmse:311.5\n",
      "[20]\ttrain-rmse:270.5\tvalid-rmse:295.069\n",
      "[30]\ttrain-rmse:252.869\tvalid-rmse:284.159\n",
      "[40]\ttrain-rmse:242.087\tvalid-rmse:278.976\n",
      "[50]\ttrain-rmse:230.99\tvalid-rmse:274.351\n",
      "[60]\ttrain-rmse:226.124\tvalid-rmse:273.032\n",
      "[70]\ttrain-rmse:223.641\tvalid-rmse:272.87\n",
      "[80]\ttrain-rmse:220.79\tvalid-rmse:272.457\n",
      "[90]\ttrain-rmse:218.202\tvalid-rmse:272.103\n",
      "[100]\ttrain-rmse:216.117\tvalid-rmse:272.07\n",
      "[110]\ttrain-rmse:211.286\tvalid-rmse:270.673\n",
      "[120]\ttrain-rmse:210.372\tvalid-rmse:271.019\n",
      "[130]\ttrain-rmse:208.398\tvalid-rmse:270.943\n",
      "[140]\ttrain-rmse:201.373\tvalid-rmse:267.552\n",
      "[150]\ttrain-rmse:199.782\tvalid-rmse:267.86\n",
      "[160]\ttrain-rmse:198.831\tvalid-rmse:268.236\n",
      "[170]\ttrain-rmse:197.659\tvalid-rmse:268.144\n",
      "[180]\ttrain-rmse:195.145\tvalid-rmse:267.939\n",
      "Stopping. Best iteration:\n",
      "[137]\ttrain-rmse:201.899\tvalid-rmse:267.434\n",
      "\n"
     ]
    }
   ],
   "source": [
    "xgb_model = xgb.train(xgb_pars, dtrain, 1000, watchlist, early_stopping_rounds=50,\n",
    "                      maximize=False, verbose_eval=10)"
   ]
  },
  {
   "cell_type": "code",
   "execution_count": 55,
   "metadata": {},
   "outputs": [
    {
     "data": {
      "text/plain": [
       "0.7821258352264342"
      ]
     },
     "execution_count": 55,
     "metadata": {},
     "output_type": "execute_result"
    }
   ],
   "source": [
    "Y_pred = xgb_model.predict(dtest)\n",
    "r2_score(Y_test,Y_pred)"
   ]
  },
  {
   "cell_type": "code",
   "execution_count": 59,
   "metadata": {},
   "outputs": [
    {
     "data": {
      "text/html": [
       "<div>\n",
       "<style scoped>\n",
       "    .dataframe tbody tr th:only-of-type {\n",
       "        vertical-align: middle;\n",
       "    }\n",
       "\n",
       "    .dataframe tbody tr th {\n",
       "        vertical-align: top;\n",
       "    }\n",
       "\n",
       "    .dataframe thead th {\n",
       "        text-align: right;\n",
       "    }\n",
       "</style>\n",
       "<table border=\"1\" class=\"dataframe\">\n",
       "  <thead>\n",
       "    <tr style=\"text-align: right;\">\n",
       "      <th></th>\n",
       "      <th>feature name</th>\n",
       "      <th>importance</th>\n",
       "    </tr>\n",
       "  </thead>\n",
       "  <tbody>\n",
       "    <tr>\n",
       "      <th>6</th>\n",
       "      <td>dropoff_latitude</td>\n",
       "      <td>3032</td>\n",
       "    </tr>\n",
       "    <tr>\n",
       "      <th>5</th>\n",
       "      <td>dropoff_longitude</td>\n",
       "      <td>2766</td>\n",
       "    </tr>\n",
       "    <tr>\n",
       "      <th>14</th>\n",
       "      <td>hav_distance</td>\n",
       "      <td>2511</td>\n",
       "    </tr>\n",
       "    <tr>\n",
       "      <th>4</th>\n",
       "      <td>pickup_longitude</td>\n",
       "      <td>2477</td>\n",
       "    </tr>\n",
       "    <tr>\n",
       "      <th>7</th>\n",
       "      <td>euc_distance</td>\n",
       "      <td>2233</td>\n",
       "    </tr>\n",
       "    <tr>\n",
       "      <th>18</th>\n",
       "      <td>pickup_latitude</td>\n",
       "      <td>2030</td>\n",
       "    </tr>\n",
       "    <tr>\n",
       "      <th>11</th>\n",
       "      <td>hour</td>\n",
       "      <td>1703</td>\n",
       "    </tr>\n",
       "    <tr>\n",
       "      <th>2</th>\n",
       "      <td>day</td>\n",
       "      <td>484</td>\n",
       "    </tr>\n",
       "    <tr>\n",
       "      <th>12</th>\n",
       "      <td>temp</td>\n",
       "      <td>480</td>\n",
       "    </tr>\n",
       "    <tr>\n",
       "      <th>13</th>\n",
       "      <td>max</td>\n",
       "      <td>403</td>\n",
       "    </tr>\n",
       "    <tr>\n",
       "      <th>15</th>\n",
       "      <td>wdsp</td>\n",
       "      <td>397</td>\n",
       "    </tr>\n",
       "    <tr>\n",
       "      <th>8</th>\n",
       "      <td>visib</td>\n",
       "      <td>348</td>\n",
       "    </tr>\n",
       "    <tr>\n",
       "      <th>16</th>\n",
       "      <td>vendor_id</td>\n",
       "      <td>295</td>\n",
       "    </tr>\n",
       "    <tr>\n",
       "      <th>0</th>\n",
       "      <td>sndp</td>\n",
       "      <td>282</td>\n",
       "    </tr>\n",
       "    <tr>\n",
       "      <th>19</th>\n",
       "      <td>passenger_count</td>\n",
       "      <td>264</td>\n",
       "    </tr>\n",
       "    <tr>\n",
       "      <th>1</th>\n",
       "      <td>gust</td>\n",
       "      <td>213</td>\n",
       "    </tr>\n",
       "    <tr>\n",
       "      <th>20</th>\n",
       "      <td>min</td>\n",
       "      <td>196</td>\n",
       "    </tr>\n",
       "    <tr>\n",
       "      <th>3</th>\n",
       "      <td>month</td>\n",
       "      <td>179</td>\n",
       "    </tr>\n",
       "    <tr>\n",
       "      <th>9</th>\n",
       "      <td>prcp</td>\n",
       "      <td>65</td>\n",
       "    </tr>\n",
       "    <tr>\n",
       "      <th>10</th>\n",
       "      <td>rain_drizzle</td>\n",
       "      <td>38</td>\n",
       "    </tr>\n",
       "    <tr>\n",
       "      <th>21</th>\n",
       "      <td>store_and_fwd_flag</td>\n",
       "      <td>9</td>\n",
       "    </tr>\n",
       "    <tr>\n",
       "      <th>17</th>\n",
       "      <td>fog</td>\n",
       "      <td>4</td>\n",
       "    </tr>\n",
       "    <tr>\n",
       "      <th>22</th>\n",
       "      <td>snow_ice_pellets</td>\n",
       "      <td>1</td>\n",
       "    </tr>\n",
       "  </tbody>\n",
       "</table>\n",
       "</div>"
      ],
      "text/plain": [
       "          feature name  importance\n",
       "6     dropoff_latitude        3032\n",
       "5    dropoff_longitude        2766\n",
       "14        hav_distance        2511\n",
       "4     pickup_longitude        2477\n",
       "7         euc_distance        2233\n",
       "18     pickup_latitude        2030\n",
       "11                hour        1703\n",
       "2                  day         484\n",
       "12                temp         480\n",
       "13                 max         403\n",
       "15                wdsp         397\n",
       "8                visib         348\n",
       "16           vendor_id         295\n",
       "0                 sndp         282\n",
       "19     passenger_count         264\n",
       "1                 gust         213\n",
       "20                 min         196\n",
       "3                month         179\n",
       "9                 prcp          65\n",
       "10        rain_drizzle          38\n",
       "21  store_and_fwd_flag           9\n",
       "17                 fog           4\n",
       "22    snow_ice_pellets           1"
      ]
     },
     "execution_count": 59,
     "metadata": {},
     "output_type": "execute_result"
    }
   ],
   "source": [
    "feature_importance_dict = xgb_model.get_fscore()\n",
    "\n",
    "feature_importance = pd.DataFrame({'feature name':list(feature_importance_dict.keys()),\n",
    "                                   'importance':list(feature_importance_dict.values())})\n",
    "\n",
    "feature_importance.sort_values(by='importance', ascending=False)"
   ]
  },
  {
   "cell_type": "markdown",
   "metadata": {},
   "source": [
    "### Linear Regression"
   ]
  },
  {
   "cell_type": "code",
   "execution_count": 47,
   "metadata": {},
   "outputs": [
    {
     "data": {
      "text/plain": [
       "0.5667694512549732"
      ]
     },
     "execution_count": 47,
     "metadata": {},
     "output_type": "execute_result"
    }
   ],
   "source": [
    "linear_model = LinearRegression()\n",
    "linear_model.fit(X_train,Y_train)\n",
    "\n",
    "Y_pred = linear_model.predict(X_test)\n",
    "r2_score(Y_test,Y_pred)"
   ]
  },
  {
   "cell_type": "markdown",
   "metadata": {},
   "source": [
    "### Random Forest Model"
   ]
  },
  {
   "cell_type": "code",
   "execution_count": 52,
   "metadata": {},
   "outputs": [
    {
     "data": {
      "text/plain": [
       "0.7486503364258201"
      ]
     },
     "execution_count": 52,
     "metadata": {},
     "output_type": "execute_result"
    }
   ],
   "source": [
    "rf_model = RandomForestRegressor(n_estimators=100, random_state=0, max_depth=10)\n",
    "rf_model.fit(X_train,Y_train)\n",
    "Y_pred = rf_model.predict(X_test)\n",
    "r2_score(Y_test,Y_pred)"
   ]
  }
 ],
 "metadata": {
  "kernelspec": {
   "display_name": "Python 3",
   "language": "python",
   "name": "python3"
  },
  "language_info": {
   "codemirror_mode": {
    "name": "ipython",
    "version": 3
   },
   "file_extension": ".py",
   "mimetype": "text/x-python",
   "name": "python",
   "nbconvert_exporter": "python",
   "pygments_lexer": "ipython3",
   "version": "3.6.8"
  }
 },
 "nbformat": 4,
 "nbformat_minor": 2
}
