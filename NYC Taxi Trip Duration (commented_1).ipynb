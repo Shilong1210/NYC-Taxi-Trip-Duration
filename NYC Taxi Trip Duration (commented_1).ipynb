{
 "cells": [
  {
   "cell_type": "markdown",
   "metadata": {
    "colab_type": "text",
    "id": "98fJTlvnBbiX"
   },
   "source": [
    "# Group Member"
   ]
  },
  {
   "cell_type": "markdown",
   "metadata": {
    "colab_type": "text",
    "id": "wCwqiItEOj8b"
   },
   "source": [
    "Shilong Yin\n",
    "\n",
    "Diwei Xiong\n",
    "\n",
    "Jieyin Mai\n",
    "\n",
    "Jiayu Wang"
   ]
  },
  {
   "cell_type": "code",
   "execution_count": 0,
   "metadata": {
    "colab": {},
    "colab_type": "code",
    "id": "pCNPak2lBbiY"
   },
   "outputs": [],
   "source": [
    "import pandas as pd\n",
    "import os\n",
    "import numpy as np # linear algebra\n",
    "import matplotlib.pyplot as plt\n",
    "import seaborn as sns\n",
    "import xgboost as xgb\n",
    "from sklearn.model_selection import train_test_split\n",
    "from sklearn.decomposition import PCA\n",
    "from sklearn.cluster import MiniBatchKMeans\n",
    "import xgboost as xgb\n",
    "from sklearn.linear_model import LinearRegression\n",
    "from sklearn.ensemble import RandomForestRegressor\n",
    "from sklearn.metrics import r2_score\n",
    "from google.cloud import bigquery\n",
    "from sklearn.decomposition import PCA\n",
    "from sklearn.metrics import mean_squared_error\n",
    "import calendar\n",
    "import math\n",
    "#envrionment set up\n",
    "pd.set_option('display.max_columns', 500)\n",
    "# os.environ[\"GOOGLE_APPLICATION_CREDENTIALS\"]=\"./license/APMA4990-834091538ff1.json\"\n",
    "\n",
    "# colab setting\n",
    "! gcloud init\n",
    "project_id = 'bustling-folio-237814'\n",
    "os.environ[\"GOOGLE_APPLICATION_CREDENTIALS\"]='/content/BMEN4000-jw3689-ead9cbc97612.json'"
   ]
  },
  {
   "cell_type": "markdown",
   "metadata": {
    "colab_type": "text",
    "id": "RZsSZc2pBbic"
   },
   "source": [
    "# Data Gathering and Preparation"
   ]
  },
  {
   "cell_type": "markdown",
   "metadata": {
    "colab_type": "text",
    "id": "4uSt0OYhBbic"
   },
   "source": [
    "## Data Pipeline"
   ]
  },
  {
   "cell_type": "markdown",
   "metadata": {
    "colab_type": "text",
    "id": "KwuXFvRNOT5O"
   },
   "source": [
    "- **Selected Features**\n",
    "\n",
    "We fetch data directly from Big Query: `bigquery-public-data.new_york.tlc_yellow_trips_2016`, but delete some useless and unreliable features: payment_type, fare_amount, extra, mta_tax, imp_surcharge, tip_amount, tolls_amount and total_amount from the original dataset. Then we add month, year and trip_duration as additional features.\n",
    "\n",
    "\n",
    "| Parameters  | Variables | Description  | Filter|\n",
    "|---|---|---|---|\n",
    "| **Pickup Latitude**  | pickup_latitude  | The latitude where the meter was engaged.  |in New York: 40~42. |\n",
    "| **Pickup Longitude**  | pickup_longitude  | The longitude where the meter was engaged.  |in New York: -75~-73|\n",
    "| **Dropoff Latitude**  | dropoff_latitude  | The latitude where the meter was disengaged.  |in New York: 40~42|\n",
    "| **Dropoff Longitude**  | dropoff_longitude  | The longitude where the meter was disengaged.  |in New York: -75~-73|\n",
    "| **Pickup Datetime**  | pickup_datetime  | Month, day, year, hour and weekday of when the meter was engaged. |/|\n",
    "| **Dropoff Datetime**  | dropoff_datetime  | Month, day, year, hour and weekday of when the meter was disengaged. |/|\n",
    "| **Passenger Count**  | passenger_count  | The number of passengers in the vehicle (driver entered value)  | normal capacity: 1~4  |\n",
    "| **Vendor ID**  | vendor_id  | Code indicating the provider associated with the trip record.  |/|\n",
    "| **Store&Forward Flag**  | store_and_fwd_flag | Whether the trip record was held in vehicle memory before <br>sending to the vendor because the vehicle did not have a <br>connection to the server (Y=store and forward; N=not a store<br> and forward trip)   |/|\n",
    "\n",
    "- **Calculated Features**\n",
    "\n",
    "| Parameters  | Variables | Description  |Filter|\n",
    "|---|---|---|---|\n",
    "| **Euclidian Distance (km)**  | euc_distance  | Straight-line distance between two points in Euclidean space, calculated <br>with pickup/dropoff latitude and longitude.  |/|\n",
    "| **Haversine Distance (km)**  | hav_distance  | Great-circle distance between two points on a sphere, calculated with <br>pickup/dropoff latitude and longitude.  |relatively straight <br>forward rountine: 0.1~30|\n",
    "| **Trip Duration (s)**  | trip_lduration  | Duration of the trip in seconds, calculated with pickup datetime and <br>dropoff datetime.  | between one minute <br>and one hour: 60~3600|\n",
    "\n",
    "- **Supplemented Features - Weather**\n",
    "(at Station 725053)\n",
    "\n",
    "| Parameters  | Variables | Description  |Filter|\n",
    "|---|---|---|---|\n",
    "| **Temperature**  | temp, max, min  | Mean, maximum and minumum daily temperature.  |/|\n",
    "| **Visibility**  | visib  | Mean visibility for the day in miles to tenths.  |/|\n",
    "| **Wind**  | wdsp, gust  | Mean wind speed and maximum wind gust for the day in <br>knots to tenths.  |/|\n",
    "|**Precipitation** |prcp, sndp|Total precipitation (rain and/or melted snow) reported during the day <br>in inches and hundredths; Snow depth in inches to tenths|/|\n",
    "| **Indicators**  | fog, rain_drizzle,\tthunder,\t<br>snow_ice_pellets, hail  | (1 = yes, 0 = no/not reported) for the occurrence during the day. |/|"
   ]
  },
  {
   "cell_type": "code",
   "execution_count": 0,
   "metadata": {
    "colab": {},
    "colab_type": "code",
    "id": "hvJkxXoFBbid"
   },
   "outputs": [],
   "source": [
    "#import big query from google cloud\n",
    "from google.cloud import bigquery\n",
    "client = bigquery.Client()"
   ]
  },
  {
   "cell_type": "code",
   "execution_count": 0,
   "metadata": {
    "colab": {},
    "colab_type": "code",
    "id": "i9MCO6HDBbig"
   },
   "outputs": [],
   "source": [
    "## No need if there is local data\n",
    "\n",
    "client = bigquery.Client()\n",
    "#query to define function for converting radians to kilometers, for Haversine distance and for Euclidean function\n",
    "#then select features decribed above\n",
    "#then inner join the new table contain our features with bigquery-public-data.noaa_gsod.gsod2016 table to get \n",
    "#weather feature\n",
    "query = (\n",
    "    \"\"\"\n",
    "CREATE TEMP FUNCTION RADIANS(x FLOAT64) AS (\n",
    "  ACOS(-1) * x / 180\n",
    ");\n",
    "CREATE TEMP FUNCTION RADIANS_TO_KM(x FLOAT64) AS (\n",
    "  6371 * 2 * ASIN(SQRT(x))\n",
    ");\n",
    "CREATE TEMP FUNCTION HAVERSINE(lat1 FLOAT64, long1 FLOAT64,\n",
    "                               lat2 FLOAT64, long2 FLOAT64) AS (\n",
    "  RADIANS_TO_KM(\n",
    "        COS(RADIANS(lat1)) * COS(RADIANS(lat2)) *\n",
    "        POW(SIN(RADIANS(long1)/2 - RADIANS(long2)/2),2) +\n",
    "        POW(SIN(RADIANS(lat1)/2 - RADIANS(lat2)/2),2))\n",
    ");\n",
    "    \n",
    "CREATE TEMP FUNCTION EUCLIDEAN(lat1 FLOAT64, long1 FLOAT64,\n",
    "                               lat2 FLOAT64, long2 FLOAT64) AS (\n",
    "  SQRT(POW((long1 - long2),2) + POW((lat1 - lat2), 2))                           \n",
    ");\n",
    "    \n",
    "    SELECT * FROM \n",
    "    (\n",
    "        SELECT pickup_datetime,dropoff_datetime,pickup_longitude,pickup_latitude,dropoff_longitude,dropoff_latitude,\n",
    "        passenger_count,vendor_id,store_and_fwd_flag,\n",
    "        EXTRACT (DATE FROM pickup_datetime) as date,\n",
    "        EXTRACT (MONTH FROM pickup_datetime) as month,\n",
    "        EXTRACT (DAYOFWEEK FROM pickup_datetime) as day,\n",
    "        EXTRACT (YEAR FROM pickup_datetime) as year,\n",
    "        EXTRACT (HOUR from pickup_datetime) as hour,\n",
    "        EUCLIDEAN(dropoff_latitude, dropoff_longitude, pickup_latitude, pickup_longitude) as euc_distance,\n",
    "        HAVERSINE(dropoff_latitude, dropoff_longitude, pickup_latitude, pickup_longitude) as hav_distance,\n",
    "        TIMESTAMP_DIFF(dropoff_datetime, pickup_datetime, SECOND) as trip_duration\n",
    "        FROM `bigquery-public-data.new_york.tlc_yellow_trips_2016`\n",
    "        \n",
    "        WHERE pickup_longitude BETWEEN -75 AND -73\n",
    "        AND dropoff_longitude BETWEEN -75 AND -73\n",
    "        AND pickup_latitude BETWEEN 40 AND 42\n",
    "        AND dropoff_latitude BETWEEN 40 AND 42\n",
    "        AND HAVERSINE(dropoff_latitude, dropoff_longitude, pickup_latitude, pickup_longitude) BETWEEN 0.1 AND 30\n",
    "        AND passenger_count BETWEEN 1 AND 4\n",
    "        AND TIMESTAMP_DIFF(dropoff_datetime, pickup_datetime, SECOND) BETWEEN 60 AND 3600\n",
    "    ) trip\n",
    "    INNER JOIN\n",
    "    (\n",
    "     SELECT CONCAT(year,'-',mo,'-',da) as date2,temp,visib,wdsp,gust,max,min,prcp,sndp,fog,rain_drizzle,snow_ice_pellets,hail,thunder\n",
    "     FROM `bigquery-public-data.noaa_gsod.gsod2016` \n",
    "     WHERE stn = '725053'\n",
    "    ) weather\n",
    "    on CAST(trip.date AS STRING) = weather.date2\n",
    "    \n",
    "    ORDER BY RAND()\n",
    "    LIMIT 100000\n",
    "    \"\"\"\n",
    ")\n",
    "#create our table based on our query using panda so that we can process those data in python\n",
    "df=pd.io.gbq.read_gbq(query,project_id,dialect='standard')"
   ]
  },
  {
   "cell_type": "code",
   "execution_count": 0,
   "metadata": {
    "colab": {},
    "colab_type": "code",
    "id": "W5i-D_z9j3PP"
   },
   "outputs": [],
   "source": [
    "#write our table to csv file\n",
    "df.to_csv('data.csv',index=False)\n",
    "#read the created csv file\n",
    "df = pd.read_csv('data.csv')"
   ]
  },
  {
   "cell_type": "code",
   "execution_count": 8,
   "metadata": {
    "colab": {
     "base_uri": "https://localhost:8080/",
     "height": 311
    },
    "colab_type": "code",
    "id": "3eXqIO4_Bbii",
    "outputId": "afa9c54a-4177-4d68-d052-b53495f2f95b"
   },
   "outputs": [
    {
     "data": {
      "text/html": [
       "<div>\n",
       "<style scoped>\n",
       "    .dataframe tbody tr th:only-of-type {\n",
       "        vertical-align: middle;\n",
       "    }\n",
       "\n",
       "    .dataframe tbody tr th {\n",
       "        vertical-align: top;\n",
       "    }\n",
       "\n",
       "    .dataframe thead th {\n",
       "        text-align: right;\n",
       "    }\n",
       "</style>\n",
       "<table border=\"1\" class=\"dataframe\">\n",
       "  <thead>\n",
       "    <tr style=\"text-align: right;\">\n",
       "      <th></th>\n",
       "      <th>pickup_datetime</th>\n",
       "      <th>dropoff_datetime</th>\n",
       "      <th>pickup_longitude</th>\n",
       "      <th>pickup_latitude</th>\n",
       "      <th>dropoff_longitude</th>\n",
       "      <th>dropoff_latitude</th>\n",
       "      <th>passenger_count</th>\n",
       "      <th>vendor_id</th>\n",
       "      <th>store_and_fwd_flag</th>\n",
       "      <th>date</th>\n",
       "      <th>month</th>\n",
       "      <th>day</th>\n",
       "      <th>year</th>\n",
       "      <th>hour</th>\n",
       "      <th>euc_distance</th>\n",
       "      <th>hav_distance</th>\n",
       "      <th>trip_duration</th>\n",
       "      <th>date2</th>\n",
       "      <th>temp</th>\n",
       "      <th>visib</th>\n",
       "      <th>wdsp</th>\n",
       "      <th>gust</th>\n",
       "      <th>max</th>\n",
       "      <th>min</th>\n",
       "      <th>prcp</th>\n",
       "      <th>sndp</th>\n",
       "      <th>fog</th>\n",
       "      <th>rain_drizzle</th>\n",
       "      <th>snow_ice_pellets</th>\n",
       "      <th>hail</th>\n",
       "      <th>thunder</th>\n",
       "    </tr>\n",
       "  </thead>\n",
       "  <tbody>\n",
       "    <tr>\n",
       "      <th>0</th>\n",
       "      <td>2016-02-11 00:22:12</td>\n",
       "      <td>2016-02-11 00:26:45</td>\n",
       "      <td>-73.973389</td>\n",
       "      <td>40.752151</td>\n",
       "      <td>-73.966415</td>\n",
       "      <td>40.761860</td>\n",
       "      <td>1</td>\n",
       "      <td>1</td>\n",
       "      <td>N</td>\n",
       "      <td>2016-02-11</td>\n",
       "      <td>2</td>\n",
       "      <td>5</td>\n",
       "      <td>2016</td>\n",
       "      <td>0</td>\n",
       "      <td>0.011953</td>\n",
       "      <td>1.228964</td>\n",
       "      <td>273</td>\n",
       "      <td>2016-02-11</td>\n",
       "      <td>26.1</td>\n",
       "      <td>9.5</td>\n",
       "      <td>8.0</td>\n",
       "      <td>28.9</td>\n",
       "      <td>39.0</td>\n",
       "      <td>21.9</td>\n",
       "      <td>0.00</td>\n",
       "      <td>999.9</td>\n",
       "      <td>0</td>\n",
       "      <td>0</td>\n",
       "      <td>1</td>\n",
       "      <td>0</td>\n",
       "      <td>0</td>\n",
       "    </tr>\n",
       "    <tr>\n",
       "      <th>1</th>\n",
       "      <td>2016-05-30 03:06:09</td>\n",
       "      <td>2016-05-30 03:11:43</td>\n",
       "      <td>-73.921158</td>\n",
       "      <td>40.756420</td>\n",
       "      <td>-73.910706</td>\n",
       "      <td>40.767834</td>\n",
       "      <td>1</td>\n",
       "      <td>1</td>\n",
       "      <td>N</td>\n",
       "      <td>2016-05-30</td>\n",
       "      <td>5</td>\n",
       "      <td>2</td>\n",
       "      <td>2016</td>\n",
       "      <td>3</td>\n",
       "      <td>0.015476</td>\n",
       "      <td>1.544553</td>\n",
       "      <td>334</td>\n",
       "      <td>2016-05-30</td>\n",
       "      <td>73.0</td>\n",
       "      <td>7.2</td>\n",
       "      <td>2.6</td>\n",
       "      <td>999.9</td>\n",
       "      <td>87.1</td>\n",
       "      <td>68.0</td>\n",
       "      <td>1.65</td>\n",
       "      <td>999.9</td>\n",
       "      <td>1</td>\n",
       "      <td>1</td>\n",
       "      <td>0</td>\n",
       "      <td>0</td>\n",
       "      <td>0</td>\n",
       "    </tr>\n",
       "    <tr>\n",
       "      <th>2</th>\n",
       "      <td>2016-06-04 02:04:55</td>\n",
       "      <td>2016-06-04 02:11:20</td>\n",
       "      <td>-73.982384</td>\n",
       "      <td>40.742569</td>\n",
       "      <td>-73.967270</td>\n",
       "      <td>40.759830</td>\n",
       "      <td>1</td>\n",
       "      <td>2</td>\n",
       "      <td>N</td>\n",
       "      <td>2016-06-04</td>\n",
       "      <td>6</td>\n",
       "      <td>7</td>\n",
       "      <td>2016</td>\n",
       "      <td>2</td>\n",
       "      <td>0.022943</td>\n",
       "      <td>2.303240</td>\n",
       "      <td>385</td>\n",
       "      <td>2016-06-04</td>\n",
       "      <td>72.4</td>\n",
       "      <td>6.4</td>\n",
       "      <td>2.1</td>\n",
       "      <td>999.9</td>\n",
       "      <td>82.9</td>\n",
       "      <td>63.0</td>\n",
       "      <td>0.03</td>\n",
       "      <td>999.9</td>\n",
       "      <td>0</td>\n",
       "      <td>1</td>\n",
       "      <td>0</td>\n",
       "      <td>0</td>\n",
       "      <td>0</td>\n",
       "    </tr>\n",
       "    <tr>\n",
       "      <th>3</th>\n",
       "      <td>2016-02-09 22:14:11</td>\n",
       "      <td>2016-02-09 22:37:48</td>\n",
       "      <td>-73.995285</td>\n",
       "      <td>40.749657</td>\n",
       "      <td>-73.962822</td>\n",
       "      <td>40.676586</td>\n",
       "      <td>1</td>\n",
       "      <td>1</td>\n",
       "      <td>N</td>\n",
       "      <td>2016-02-09</td>\n",
       "      <td>2</td>\n",
       "      <td>3</td>\n",
       "      <td>2016</td>\n",
       "      <td>22</td>\n",
       "      <td>0.079957</td>\n",
       "      <td>8.573397</td>\n",
       "      <td>1417</td>\n",
       "      <td>2016-02-09</td>\n",
       "      <td>30.4</td>\n",
       "      <td>9.4</td>\n",
       "      <td>4.7</td>\n",
       "      <td>999.9</td>\n",
       "      <td>39.0</td>\n",
       "      <td>27.0</td>\n",
       "      <td>0.05</td>\n",
       "      <td>999.9</td>\n",
       "      <td>0</td>\n",
       "      <td>0</td>\n",
       "      <td>1</td>\n",
       "      <td>0</td>\n",
       "      <td>0</td>\n",
       "    </tr>\n",
       "    <tr>\n",
       "      <th>4</th>\n",
       "      <td>2016-02-07 22:59:26</td>\n",
       "      <td>2016-02-07 23:01:35</td>\n",
       "      <td>-73.955643</td>\n",
       "      <td>40.779617</td>\n",
       "      <td>-73.953316</td>\n",
       "      <td>40.788380</td>\n",
       "      <td>1</td>\n",
       "      <td>1</td>\n",
       "      <td>N</td>\n",
       "      <td>2016-02-07</td>\n",
       "      <td>2</td>\n",
       "      <td>1</td>\n",
       "      <td>2016</td>\n",
       "      <td>22</td>\n",
       "      <td>0.009066</td>\n",
       "      <td>0.993832</td>\n",
       "      <td>129</td>\n",
       "      <td>2016-02-07</td>\n",
       "      <td>39.1</td>\n",
       "      <td>10.0</td>\n",
       "      <td>4.0</td>\n",
       "      <td>17.1</td>\n",
       "      <td>46.9</td>\n",
       "      <td>30.0</td>\n",
       "      <td>0.00</td>\n",
       "      <td>999.9</td>\n",
       "      <td>0</td>\n",
       "      <td>0</td>\n",
       "      <td>0</td>\n",
       "      <td>0</td>\n",
       "      <td>0</td>\n",
       "    </tr>\n",
       "  </tbody>\n",
       "</table>\n",
       "</div>"
      ],
      "text/plain": [
       "       pickup_datetime     dropoff_datetime  pickup_longitude  \\\n",
       "0  2016-02-11 00:22:12  2016-02-11 00:26:45        -73.973389   \n",
       "1  2016-05-30 03:06:09  2016-05-30 03:11:43        -73.921158   \n",
       "2  2016-06-04 02:04:55  2016-06-04 02:11:20        -73.982384   \n",
       "3  2016-02-09 22:14:11  2016-02-09 22:37:48        -73.995285   \n",
       "4  2016-02-07 22:59:26  2016-02-07 23:01:35        -73.955643   \n",
       "\n",
       "   pickup_latitude  dropoff_longitude  dropoff_latitude  passenger_count  \\\n",
       "0        40.752151         -73.966415         40.761860                1   \n",
       "1        40.756420         -73.910706         40.767834                1   \n",
       "2        40.742569         -73.967270         40.759830                1   \n",
       "3        40.749657         -73.962822         40.676586                1   \n",
       "4        40.779617         -73.953316         40.788380                1   \n",
       "\n",
       "   vendor_id store_and_fwd_flag        date  month  day  year  hour  \\\n",
       "0          1                  N  2016-02-11      2    5  2016     0   \n",
       "1          1                  N  2016-05-30      5    2  2016     3   \n",
       "2          2                  N  2016-06-04      6    7  2016     2   \n",
       "3          1                  N  2016-02-09      2    3  2016    22   \n",
       "4          1                  N  2016-02-07      2    1  2016    22   \n",
       "\n",
       "   euc_distance  hav_distance  trip_duration       date2  temp  visib  wdsp  \\\n",
       "0      0.011953      1.228964            273  2016-02-11  26.1    9.5   8.0   \n",
       "1      0.015476      1.544553            334  2016-05-30  73.0    7.2   2.6   \n",
       "2      0.022943      2.303240            385  2016-06-04  72.4    6.4   2.1   \n",
       "3      0.079957      8.573397           1417  2016-02-09  30.4    9.4   4.7   \n",
       "4      0.009066      0.993832            129  2016-02-07  39.1   10.0   4.0   \n",
       "\n",
       "    gust   max   min  prcp   sndp  fog  rain_drizzle  snow_ice_pellets  hail  \\\n",
       "0   28.9  39.0  21.9  0.00  999.9    0             0                 1     0   \n",
       "1  999.9  87.1  68.0  1.65  999.9    1             1                 0     0   \n",
       "2  999.9  82.9  63.0  0.03  999.9    0             1                 0     0   \n",
       "3  999.9  39.0  27.0  0.05  999.9    0             0                 1     0   \n",
       "4   17.1  46.9  30.0  0.00  999.9    0             0                 0     0   \n",
       "\n",
       "   thunder  \n",
       "0        0  \n",
       "1        0  \n",
       "2        0  \n",
       "3        0  \n",
       "4        0  "
      ]
     },
     "execution_count": 8,
     "metadata": {
      "tags": []
     },
     "output_type": "execute_result"
    }
   ],
   "source": [
    "#show our table\n",
    "df.head()"
   ]
  },
  {
   "cell_type": "code",
   "execution_count": 9,
   "metadata": {
    "colab": {
     "base_uri": "https://localhost:8080/",
     "height": 34
    },
    "colab_type": "code",
    "id": "Z7xPyZflBbin",
    "outputId": "d0bfea3c-8a1c-4b48-e30d-d7f65d475c26"
   },
   "outputs": [
    {
     "data": {
      "text/plain": [
       "(100000, 31)"
      ]
     },
     "execution_count": 9,
     "metadata": {
      "tags": []
     },
     "output_type": "execute_result"
    }
   ],
   "source": [
    "#display the shape of our table so that we can know how many features and set of data in our table\n",
    "df.shape"
   ]
  },
  {
   "cell_type": "markdown",
   "metadata": {
    "colab_type": "text",
    "id": "6IVf_FMzBbir"
   },
   "source": [
    "## Data Integrity Check"
   ]
  },
  {
   "cell_type": "markdown",
   "metadata": {
    "colab_type": "text",
    "id": "comnyTBfk0Ei"
   },
   "source": [
    "- check if there is NAN data\n",
    "- check if indicators are binary.\n",
    "- check whether the year is 2016 or not."
   ]
  },
  {
   "cell_type": "code",
   "execution_count": 10,
   "metadata": {
    "colab": {
     "base_uri": "https://localhost:8080/",
     "height": 34
    },
    "colab_type": "code",
    "id": "ga5DubXnBbis",
    "outputId": "dc0e5140-7055-483e-dfb1-51d5a37a09e9"
   },
   "outputs": [
    {
     "data": {
      "text/plain": [
       "array([False])"
      ]
     },
     "execution_count": 10,
     "metadata": {
      "tags": []
     },
     "output_type": "execute_result"
    }
   ],
   "source": [
    "#code for checking whether there is NAN data\n",
    "check_NAN_box = []\n",
    "\n",
    "for i in df.columns:\n",
    "    check_NAN_box.append(df[i].isnull().any())\n",
    "\n",
    "check_NAN_box = pd.DataFrame([check_NAN_box],columns=df.columns)\n",
    "np.unique(check_NAN_box.values)"
   ]
  },
  {
   "cell_type": "code",
   "execution_count": 11,
   "metadata": {
    "colab": {
     "base_uri": "https://localhost:8080/",
     "height": 80
    },
    "colab_type": "code",
    "id": "SNopoUf4Bbix",
    "outputId": "78f67610-ad21-4f85-db34-32d7241f0166"
   },
   "outputs": [
    {
     "data": {
      "text/html": [
       "<div>\n",
       "<style scoped>\n",
       "    .dataframe tbody tr th:only-of-type {\n",
       "        vertical-align: middle;\n",
       "    }\n",
       "\n",
       "    .dataframe tbody tr th {\n",
       "        vertical-align: top;\n",
       "    }\n",
       "\n",
       "    .dataframe thead th {\n",
       "        text-align: right;\n",
       "    }\n",
       "</style>\n",
       "<table border=\"1\" class=\"dataframe\">\n",
       "  <thead>\n",
       "    <tr style=\"text-align: right;\">\n",
       "      <th></th>\n",
       "      <th>vendor_id</th>\n",
       "      <th>store_and_fwd_flag</th>\n",
       "      <th>year</th>\n",
       "      <th>fog</th>\n",
       "      <th>rain_drizzle</th>\n",
       "      <th>snow_ice_pellets</th>\n",
       "      <th>hail</th>\n",
       "      <th>thunder</th>\n",
       "    </tr>\n",
       "  </thead>\n",
       "  <tbody>\n",
       "    <tr>\n",
       "      <th>0</th>\n",
       "      <td>[1, 2]</td>\n",
       "      <td>[N, Y]</td>\n",
       "      <td>[2016]</td>\n",
       "      <td>[0, 1]</td>\n",
       "      <td>[0, 1]</td>\n",
       "      <td>[1, 0]</td>\n",
       "      <td>[0]</td>\n",
       "      <td>[0]</td>\n",
       "    </tr>\n",
       "  </tbody>\n",
       "</table>\n",
       "</div>"
      ],
      "text/plain": [
       "  vendor_id store_and_fwd_flag    year     fog rain_drizzle snow_ice_pellets  \\\n",
       "0    [1, 2]             [N, Y]  [2016]  [0, 1]       [0, 1]           [1, 0]   \n",
       "\n",
       "  hail thunder  \n",
       "0  [0]     [0]  "
      ]
     },
     "execution_count": 11,
     "metadata": {
      "tags": []
     },
     "output_type": "execute_result"
    }
   ],
   "source": [
    "#check the unique element in specific features\n",
    "check_uni_box = []\n",
    "col = ['vendor_id','store_and_fwd_flag','year','fog','rain_drizzle','snow_ice_pellets','hail','thunder']\n",
    "\n",
    "for i in col:\n",
    "    check_uni_box.append(df[i].unique())\n",
    "#display the unique element in specific features\n",
    "check_uni_box = pd.DataFrame([check_uni_box],columns=col)\n",
    "check_uni_box"
   ]
  },
  {
   "cell_type": "markdown",
   "metadata": {
    "colab_type": "text",
    "id": "RWTF3npXBbi7"
   },
   "source": [
    "## Feature Engineering"
   ]
  },
  {
   "cell_type": "markdown",
   "metadata": {
    "colab_type": "text",
    "id": "eUDffuMJ3CA7"
   },
   "source": [
    "- remove data that is not to be applied. (They have already been used to calculate other features or act as filter)\n",
    "- clean up terms of data with meaningless values.\n",
    "- convert some of the data types."
   ]
  },
  {
   "cell_type": "code",
   "execution_count": 0,
   "metadata": {
    "colab": {},
    "colab_type": "code",
    "id": "_hISnW7LlCIJ"
   },
   "outputs": [],
   "source": [
    "# Not to use data\n",
    "#set up the list that contains feature we do not want\n",
    "no_use = ['pickup_datetime','dropoff_datetime','date','date2','year',\n",
    "          'pickup_longitude','pickup_latitude','dropoff_longitude','dropoff_latitude']"
   ]
  },
  {
   "cell_type": "code",
   "execution_count": 0,
   "metadata": {
    "colab": {},
    "colab_type": "code",
    "id": "qOddMGgRBbi1"
   },
   "outputs": [],
   "source": [
    "#define data preprocessing function \n",
    "def preprocess(data):\n",
    "    # Remove samples with wrong labels\n",
    "    tmp = data[data['year']==2016]\n",
    "    tmp = tmp[tmp['vendor_id'].isin(['1','2','3'])]\n",
    "    tmp = tmp[tmp['store_and_fwd_flag'].isin(['Y','N'])]\n",
    "    tmp = tmp[tmp['fog'].isin(['0','1'])]\n",
    "    tmp = tmp[tmp['rain_drizzle'].isin(['0','1'])]\n",
    "    tmp = tmp[tmp['snow_ice_pellets'].isin(['0','1'])]\n",
    "    tmp = tmp[tmp['hail'].isin(['0','1'])]\n",
    "    tmp = tmp[tmp['thunder'].isin(['0','1'])]\n",
    "    \n",
    "    # Convert multi-class label to one-hot value\n",
    "    tmp = pd.get_dummies(data = tmp,columns=['vendor_id','month','day','hour'])\n",
    "    \n",
    "    # Replace samples of no record with mean value\n",
    "    mean_tmp = np.mean([item for item in tmp['temp'] if item != 9999.9])\n",
    "    tmp['temp'] = tmp['temp'].replace(9999.9,mean_tmp)\n",
    "    mean_tmp = np.mean([item for item in tmp['visib'] if item != 999.9])\n",
    "    tmp['visib'] = tmp['visib'].replace(999.9,mean_tmp)\n",
    "    mean_tmp = str(np.mean([float(item) for item in tmp['wdsp'] if item != '999.9']))\n",
    "    tmp['wdsp'] = tmp['wdsp'].replace('999.9',mean_tmp)\n",
    "    mean_tmp = np.mean([item for item in tmp['gust'] if item != 999.9])\n",
    "    tmp['gust'] = tmp['gust'].replace(999.9,mean_tmp)\n",
    "    mean_tmp = np.mean([item for item in tmp['max'] if item != 9999.9])\n",
    "    tmp['max'] = tmp['max'].replace(9999.9,mean_tmp)\n",
    "    mean_tmp = np.mean([item for item in tmp['min'] if item != 9999.9])\n",
    "    tmp['min'] = tmp['min'].replace(9999.9,mean_tmp)\n",
    "    mean_tmp = np.mean([item for item in tmp['prcp'] if item != 99.99])\n",
    "    tmp['prcp'] = tmp['prcp'].replace(999.9,mean_tmp)\n",
    "    mean_tmp = np.mean([item for item in tmp['sndp'] if item != 999.9])\n",
    "    tmp['sndp'] = tmp['sndp'].replace(999.9,mean_tmp)\n",
    "    \n",
    "    # PCA of coordinates\n",
    "    pca = PCA(n_components=2)\n",
    "    pca_matrix = pca.fit_transform(tmp[['pickup_longitude','pickup_latitude','dropoff_longitude','dropoff_latitude']].values)\n",
    "    tmp['pca0'] = pca_matrix[:,0]\n",
    "    tmp['pca1'] = pca_matrix[:,1]\n",
    "    \n",
    "    # Convert binary labels to numerical labels\n",
    "    tmp['store_and_fwd_flag'] = 1 * (tmp['store_and_fwd_flag'].values == 'Y') \n",
    "    tmp['wdsp'] = tmp['wdsp'].astype(float,copy=True,errors='raise')\n",
    "    tmp['fog'] = tmp['fog'].astype(int,copy=True,errors='raise')\n",
    "    tmp['rain_drizzle'] = tmp['rain_drizzle'].astype(int,copy=True,errors='raise')\n",
    "    tmp['snow_ice_pellets'] = tmp['snow_ice_pellets'].astype(int,copy=True,errors='raise')\n",
    "    tmp['hail'] = tmp['hail'].astype(int,copy=True,errors='raise')\n",
    "    tmp['thunder'] = tmp['thunder'].astype(int,copy=True,errors='raise')\n",
    "    \n",
    "    feature_names = [f for f in tmp.columns if f not in no_use]\n",
    "    \n",
    "    return tmp[feature_names]"
   ]
  },
  {
   "cell_type": "code",
   "execution_count": 14,
   "metadata": {
    "colab": {
     "base_uri": "https://localhost:8080/",
     "height": 34
    },
    "colab_type": "code",
    "id": "T3SUY4aJBbi3",
    "outputId": "f2c3a468-0507-48b5-8f54-f1f2106b7f7a"
   },
   "outputs": [
    {
     "data": {
      "text/plain": [
       "(100000, 59)"
      ]
     },
     "execution_count": 14,
     "metadata": {
      "tags": []
     },
     "output_type": "execute_result"
    }
   ],
   "source": [
    "#apply the data preprocessing function to our table\n",
    "data = preprocess(df)\n",
    "#display the number of set of data and number of features of preprocessed data\n",
    "data.shape"
   ]
  },
  {
   "cell_type": "code",
   "execution_count": 15,
   "metadata": {
    "colab": {
     "base_uri": "https://localhost:8080/",
     "height": 1054
    },
    "colab_type": "code",
    "id": "-6ni3rhSlH1h",
    "outputId": "4d0e1698-0d89-41e0-b767-52c8b31c7f37"
   },
   "outputs": [
    {
     "data": {
      "text/plain": [
       "passenger_count         int64\n",
       "store_and_fwd_flag      int64\n",
       "euc_distance          float64\n",
       "hav_distance          float64\n",
       "trip_duration           int64\n",
       "temp                  float64\n",
       "visib                 float64\n",
       "wdsp                  float64\n",
       "gust                  float64\n",
       "max                   float64\n",
       "min                   float64\n",
       "prcp                  float64\n",
       "sndp                  float64\n",
       "fog                     int64\n",
       "rain_drizzle            int64\n",
       "snow_ice_pellets        int64\n",
       "hail                    int64\n",
       "thunder                 int64\n",
       "vendor_id_1             uint8\n",
       "vendor_id_2             uint8\n",
       "month_1                 uint8\n",
       "month_2                 uint8\n",
       "month_3                 uint8\n",
       "month_4                 uint8\n",
       "month_5                 uint8\n",
       "month_6                 uint8\n",
       "day_1                   uint8\n",
       "day_2                   uint8\n",
       "day_3                   uint8\n",
       "day_4                   uint8\n",
       "day_5                   uint8\n",
       "day_6                   uint8\n",
       "day_7                   uint8\n",
       "hour_0                  uint8\n",
       "hour_1                  uint8\n",
       "hour_2                  uint8\n",
       "hour_3                  uint8\n",
       "hour_4                  uint8\n",
       "hour_5                  uint8\n",
       "hour_6                  uint8\n",
       "hour_7                  uint8\n",
       "hour_8                  uint8\n",
       "hour_9                  uint8\n",
       "hour_10                 uint8\n",
       "hour_11                 uint8\n",
       "hour_12                 uint8\n",
       "hour_13                 uint8\n",
       "hour_14                 uint8\n",
       "hour_15                 uint8\n",
       "hour_16                 uint8\n",
       "hour_17                 uint8\n",
       "hour_18                 uint8\n",
       "hour_19                 uint8\n",
       "hour_20                 uint8\n",
       "hour_21                 uint8\n",
       "hour_22                 uint8\n",
       "hour_23                 uint8\n",
       "pca0                  float64\n",
       "pca1                  float64\n",
       "dtype: object"
      ]
     },
     "execution_count": 15,
     "metadata": {
      "tags": []
     },
     "output_type": "execute_result"
    }
   ],
   "source": [
    "#display the data type of each feature to facilitate processing\n",
    "data.dtypes"
   ]
  },
  {
   "cell_type": "markdown",
   "metadata": {
    "colab_type": "text",
    "id": "g_mpLWhE2xQI"
   },
   "source": [
    "# Model Selection, Comparison and Cross Validation"
   ]
  },
  {
   "cell_type": "markdown",
   "metadata": {
    "colab_type": "text",
    "id": "hzMO36LV2yJb"
   },
   "source": [
    "## Exploratory Analysis"
   ]
  },
  {
   "cell_type": "markdown",
   "metadata": {
    "colab_type": "text",
    "id": "0Oh9PfWAgy58"
   },
   "source": [
    "### Trip distance and duration distribution"
   ]
  },
  {
   "cell_type": "code",
   "execution_count": 21,
   "metadata": {
    "colab": {
     "base_uri": "https://localhost:8080/",
     "height": 337
    },
    "colab_type": "code",
    "id": "-IwDpDiVBbi8",
    "outputId": "9dc9aa78-a026-4907-c65d-dab5840cd820"
   },
   "outputs": [
    {
     "data": {
      "image/png": "[encoded data removed]",
      "text/plain": [
       "<Figure size 720x360 with 2 Axes>"
      ]
     },
     "metadata": {
      "tags": []
     },
     "output_type": "display_data"
    }
   ],
   "source": [
    "#plot two histograms, one for the relationship between haversine distance and number of record\n",
    "#the other for the relationship between trip duration and number of record\n",
    "fig, ax = plt.subplots(1, 2, figsize=(10,5))\n",
    "\n",
    "n, bins_limits, patches = ax[0].hist(data['hav_distance'].values, bins=300)\n",
    "ax[0].set_xlabel('trip distance(km)')\n",
    "ax[0].set_ylabel('number of records')\n",
    "\n",
    "n_, bins_limits_, patches_ = ax[1].hist(data['trip_duration'].values, bins=60)\n",
    "ax[1].set_xlabel('trip duration(s)')\n",
    "ax[1].set_ylabel('number of records')\n",
    "\n",
    "plt.show()"
   ]
  },
  {
   "cell_type": "code",
   "execution_count": 0,
   "metadata": {
    "colab": {},
    "colab_type": "code",
    "id": "vOFESmDw9myb"
   },
   "outputs": [],
   "source": [
    "# # To have a look at the values of histgrams\n",
    "# for a,b in enumerate(patches):\n",
    "#     print('Histgram values of trip distance', a,b)\n",
    "# for a,b in enumerate(patches_):\n",
    "#     print('Histgram values of trip duration',a,b)"
   ]
  },
  {
   "cell_type": "markdown",
   "metadata": {
    "colab_type": "text",
    "id": "trw4GEMzUE5V"
   },
   "source": [
    "**Observations:**\n",
    "- If we have a look at the histgram of our preprocessed data, the shape of either distribution is similar to a gamma distribution. \n",
    "- The most frequent distance of the trip is around 1km, rougly distributed within range of 0 to 5 km; and most frequent trip duration is around 400s, roughly distributed within range of 100 to 1500 s. "
   ]
  },
  {
   "cell_type": "code",
   "execution_count": 33,
   "metadata": {
    "colab": {
     "base_uri": "https://localhost:8080/",
     "height": 300
    },
    "colab_type": "code",
    "id": "CqltfTlx4DY5",
    "outputId": "0cc8fdbe-25e4-40ce-d011-e70065e0adca"
   },
   "outputs": [
    {
     "data": {
      "text/plain": [
       "[Text(0, 0.5, 'Trip Duration(s)'), Text(0.5, 0, 'Haversine Distance(km)')]"
      ]
     },
     "execution_count": 33,
     "metadata": {
      "tags": []
     },
     "output_type": "execute_result"
    },
    {
     "data": {
      "image/png": "[encoded data removed]",
      "text/plain": [
       "<Figure size 432x288 with 1 Axes>"
      ]
     },
     "metadata": {
      "tags": []
     },
     "output_type": "display_data"
    }
   ],
   "source": [
    "#plot the relationship about haversine distance to trip duration\n",
    "ax_ = data.plot(x='hav_distance',y='trip_duration',kind='scatter')\n",
    "ax_.set(xlabel='Haversine Distance(km)',ylabel='Trip Duration(s)')"
   ]
  },
  {
   "cell_type": "markdown",
   "metadata": {
    "colab_type": "text",
    "id": "vpR030awVXSC"
   },
   "source": [
    "**Observations:**\n",
    "- The scatter plot is an approximate banding pattern. The region with more densely clustered points represents the general cases. When distance is below around 24km, the points are dense, when distance is above around 24km, the points become sparse.\n",
    "- The trip duration is linearly and positively correlated with Haversine distance. The bottom of scatter is roughly linear with slope 0.015km/s (55.2km/h), which might indicate that the there exists a upper limit of speed of travelling. The upper boundary seems blurred, which might imply various non-straight-forward routine."
   ]
  },
  {
   "cell_type": "markdown",
   "metadata": {
    "colab_type": "text",
    "id": "y-P989UsRvZo"
   },
   "source": [
    "### Correlation"
   ]
  },
  {
   "cell_type": "code",
   "execution_count": 34,
   "metadata": {
    "colab": {
     "base_uri": "https://localhost:8080/",
     "height": 373
    },
    "colab_type": "code",
    "id": "rFArjD6-Bbi_",
    "outputId": "51fe8739-3c21-4c6f-bfb1-7d3f300f889b"
   },
   "outputs": [
    {
     "data": {
      "text/plain": [
       "<matplotlib.axes._subplots.AxesSubplot at 0x7f2aed756208>"
      ]
     },
     "execution_count": 34,
     "metadata": {
      "tags": []
     },
     "output_type": "execute_result"
    },
    {
     "data": {
      "image/png": "[encoded data removed]",
      "text/plain": [
       "<Figure size 432x288 with 2 Axes>"
      ]
     },
     "metadata": {
      "tags": []
     },
     "output_type": "display_data"
    }
   ],
   "source": [
    "#plot the confusion matrix to show the correlation amoung features\n",
    "tmp = data[data.columns[data.dtypes!='uint8']]\n",
    "tmp = tmp[tmp.columns[tmp.dtypes!='int32']]\n",
    "corr = tmp.corr()\n",
    "sns.heatmap(corr)"
   ]
  },
  {
   "cell_type": "markdown",
   "metadata": {
    "colab_type": "text",
    "id": "Eimw2abdL7T4"
   },
   "source": [
    "**Observations:**\n",
    "- The most correlated features are 2 'distance' and 2 'pca'.\n",
    "- Many features of the weather data have obvious correlations with each others."
   ]
  },
  {
   "cell_type": "markdown",
   "metadata": {
    "colab_type": "text",
    "id": "AwDy-3P8R2g3"
   },
   "source": [
    "### Trip Frequency"
   ]
  },
  {
   "cell_type": "code",
   "execution_count": 36,
   "metadata": {
    "colab": {
     "base_uri": "https://localhost:8080/",
     "height": 281
    },
    "colab_type": "code",
    "id": "layo5MtjBbjD",
    "outputId": "63b29da7-9f78-4de8-ef42-3c87f51dec1f"
   },
   "outputs": [
    {
     "data": {
      "image/png": "[encoded data removed]",
      "text/plain": [
       "<Figure size 432x288 with 1 Axes>"
      ]
     },
     "metadata": {
      "tags": []
     },
     "output_type": "display_data"
    }
   ],
   "source": [
    "#plot the trip frequency over one week period\n",
    "weekDays = (\"Monday\",\"Tuesday\",\"Wednesday\",\"Thursday\",\"Friday\",\"Saturday\",\"Sunday\")\n",
    "\n",
    "plt.plot(df.groupby('day').count(),'o-')\n",
    "plt.title('Trip frequency(week)')\n",
    "plt.ylabel('number of records')\n",
    "plt.xticks(np.arange(1,8),weekDays)\n",
    "plt.show()"
   ]
  },
  {
   "cell_type": "code",
   "execution_count": 37,
   "metadata": {
    "colab": {
     "base_uri": "https://localhost:8080/",
     "height": 281
    },
    "colab_type": "code",
    "id": "n6gRdsgnCO8i",
    "outputId": "9410d73e-4e3e-4248-8008-5be550f48d6b"
   },
   "outputs": [
    {
     "data": {
      "image/png": "[encoded data removed]",
      "text/plain": [
       "<Figure size 720x288 with 1 Axes>"
      ]
     },
     "metadata": {
      "tags": []
     },
     "output_type": "display_data"
    }
   ],
   "source": [
    "#plot the trip frequency over one month period for first half of 2016\n",
    "plt.figure(figsize=(10, 4))\n",
    "plt.plot(df.groupby('month').count(),'o-')\n",
    "plt.title('Trip frequency(month)')\n",
    "plt.ylabel('number of records')\n",
    "plt.xticks(np.arange(1,13), calendar.month_name[1:13])\n",
    "plt.show()"
   ]
  },
  {
   "cell_type": "markdown",
   "metadata": {
    "colab_type": "text",
    "id": "Jh_OzAEtN6zH"
   },
   "source": [
    "**Observations:**\n",
    "- Data for both weekday and month are unevenly distributed. \n",
    "- Saturday sees the most frequent taxi trips, and Tuesday sees the least.\n",
    "- For month information, there is only data from January to June. And May sees the most frequent taxi trips."
   ]
  },
  {
   "cell_type": "markdown",
   "metadata": {
    "colab_type": "text",
    "id": "d5_NzKtJNUt_"
   },
   "source": [
    "### Start and end point distribution"
   ]
  },
  {
   "cell_type": "code",
   "execution_count": 38,
   "metadata": {
    "colab": {
     "base_uri": "https://localhost:8080/",
     "height": 500
    },
    "colab_type": "code",
    "id": "OC6WeDvMT_sn",
    "outputId": "062ede37-efc5-42ae-894e-0426e9c3315a"
   },
   "outputs": [
    {
     "data": {
      "image/png": "[encoded data removed]",
      "text/plain": [
       "<Figure size 1440x576 with 2 Axes>"
      ]
     },
     "metadata": {
      "tags": []
     },
     "output_type": "display_data"
    }
   ],
   "source": [
    "#plot the pickup and dropoff location interms of latitude and longitude\n",
    "plt.figure(figsize=(20,8))\n",
    "city_long_border = (-74.03, -73.75)\n",
    "city_lat_border = (40.63, 40.85)\n",
    "plt.subplot(121)\n",
    "plt.scatter(df['pickup_longitude'].values[:len(data)], df['pickup_latitude'].values[:len(df)],\n",
    "              color='blue', s=1, label='train', alpha=0.1)\n",
    "plt.ylabel('latitude')\n",
    "plt.xlabel('longitude')\n",
    "plt.ylim(city_lat_border)\n",
    "plt.xlim(city_long_border)\n",
    "plt.subplot(122)\n",
    "plt.scatter(df['dropoff_longitude'].values[:len(data)], df['dropoff_latitude'].values[:len(df)],\n",
    "              color='red', s=1, label='train', alpha=0.1)\n",
    "plt.ylabel('latitude')\n",
    "plt.xlabel('longitude')\n",
    "plt.ylim(city_lat_border)\n",
    "plt.xlim(city_long_border)\n",
    "plt.show()"
   ]
  },
  {
   "cell_type": "markdown",
   "metadata": {
    "colab_type": "text",
    "id": "8m0AlN-KPRq7"
   },
   "source": []
  },
  {
   "cell_type": "code",
   "execution_count": 53,
   "metadata": {
    "colab": {
     "base_uri": "https://localhost:8080/",
     "height": 298
    },
    "colab_type": "code",
    "id": "kDiIaQ9eNmLb",
    "outputId": "dfdf63c0-e234-4960-dc55-1724160d0a14"
   },
   "outputs": [
    {
     "data": {
      "text/plain": [
       "Text(0.5, 1.0, 'PCA')"
      ]
     },
     "execution_count": 53,
     "metadata": {
      "tags": []
     },
     "output_type": "execute_result"
    },
    {
     "data": {
      "image/png": "[encoded data removed]",
      "text/plain": [
       "<Figure size 432x288 with 1 Axes>"
      ]
     },
     "metadata": {
      "tags": []
     },
     "output_type": "display_data"
    }
   ],
   "source": [
    "#plot the data after PCA\n",
    "plt.scatter(data['pca0'].values,data['pca1'].values)\n",
    "plt.title('PCA')"
   ]
  },
  {
   "cell_type": "markdown",
   "metadata": {
    "colab_type": "text",
    "id": "H8Pu6WYHQfnz"
   },
   "source": [
    "**Observations:** （不会）\n",
    "- From scatter plot, the most popular fetch areas are Manhattan and two airports.\n",
    "- From principle component analysis, the direction of maximum variance..."
   ]
  },
  {
   "cell_type": "markdown",
   "metadata": {
    "colab_type": "text",
    "id": "Rqh7uvp5BbjQ"
   },
   "source": [
    "## Model Selection"
   ]
  },
  {
   "cell_type": "markdown",
   "metadata": {
    "colab_type": "text",
    "id": "nqVvwm6uVaCb"
   },
   "source": [
    "## overall result of three model we used:##\n",
    "|Model|Score|Advanage|Disadvantage|\n",
    "|---|---|---|---|\n",
    "|**XGBoost**|0.75||\n",
    "|**Linear Regression**|0.63||\n",
    "|**Random Forest**|0.65||"
   ]
  },
  {
   "cell_type": "code",
   "execution_count": 0,
   "metadata": {
    "colab": {},
    "colab_type": "code",
    "id": "x3Da5wyEBbjR"
   },
   "outputs": [],
   "source": [
    "#drop the trip duration \n",
    "X = data.drop('trip_duration',axis=1)\n",
    "#use trip duration as prediction objective\n",
    "Y = data['trip_duration']\n",
    "X_train,X_test,Y_train,Y_test = train_test_split(X,Y,test_size=0.2,random_state=0)\n",
    "X_train,X_val,Y_train,Y_val = train_test_split(X_train,Y_train,test_size=0.2,random_state=0)"
   ]
  },
  {
   "cell_type": "markdown",
   "metadata": {
    "colab_type": "text",
    "id": "po-5CRxaQ_yN"
   },
   "source": [
    "### XGBoost"
   ]
  },
  {
   "cell_type": "markdown",
   "metadata": {
    "colab_type": "text",
    "id": "thdWL6W1S1hq"
   },
   "source": [
    "**Model Features:**\n",
    "- Gradient Boosting algorithm. \n",
    "- Stochastic Gradient Boosting with sub-sampling at the row, column and column per split levels.\n",
    "- Regularized Gradient Boosting with both L1 and L2 regularization."
   ]
  },
  {
   "cell_type": "code",
   "execution_count": 0,
   "metadata": {
    "colab": {},
    "colab_type": "code",
    "id": "6oRWQvk-Q9Oq"
   },
   "outputs": [],
   "source": [
    "'''\n",
    "Root Mean Squared Logarithmic Error (RMSLE):\n",
    "If both real and predicted values are huge, RMSLE \n",
    "avoid penalizing huge differences between their values.\n",
    "'''\n",
    "#define function for calculating root mean square log error\n",
    "def rmsle(real, predicted):\n",
    "    sum=0.0\n",
    "    for x in range(len(predicted)):\n",
    "        if predicted[x]<0 or real[x]<0: #check for negative values\n",
    "            continue\n",
    "        p = np.log(predicted[x]+1)\n",
    "        r = np.log(real[x]+1)\n",
    "        sum = sum + (p - r)**2\n",
    "    return (sum/len(predicted))**0.5"
   ]
  },
  {
   "cell_type": "code",
   "execution_count": 42,
   "metadata": {
    "colab": {
     "base_uri": "https://localhost:8080/",
     "height": 51
    },
    "colab_type": "code",
    "id": "Dtcm7akcRFCc",
    "outputId": "55f1ee8a-e8e5-4d46-beb4-672ab74ff4f8"
   },
   "outputs": [
    {
     "name": "stderr",
     "output_type": "stream",
     "text": [
      "/usr/local/lib/python3.6/dist-packages/xgboost/core.py:587: FutureWarning: Series.base is deprecated and will be removed in a future version\n",
      "  if getattr(data, 'base', None) is not None and \\\n"
     ]
    }
   ],
   "source": [
    "#set up the data for XGB model\n",
    "dtrain = xgb.DMatrix(X_train, label=Y_train)\n",
    "dvalid = xgb.DMatrix(X_val, label=Y_val)\n",
    "dtest = xgb.DMatrix(X_test)\n",
    "watchlist = [(dtrain, 'train'), (dvalid, 'valid')]\n",
    "#set up the parameters for XGB data\n",
    "xgb_pars = {'min_child_weight': 50, 'eta': 0.3, 'colsample_bytree': 0.3, 'max_depth': 10,\n",
    "            'subsample': 0.8, 'lambda': 1., 'nthread': 4, 'booster' : 'gbtree', 'silent': 1,\n",
    "            'eval_metric': 'rmse', 'objective': 'reg:linear'}"
   ]
  },
  {
   "cell_type": "code",
   "execution_count": 43,
   "metadata": {
    "colab": {
     "base_uri": "https://localhost:8080/",
     "height": 483
    },
    "colab_type": "code",
    "id": "aOOZMrATRF3S",
    "outputId": "06152e42-ed74-4a27-ddc3-6ce5c5a70dcb"
   },
   "outputs": [
    {
     "name": "stdout",
     "output_type": "stream",
     "text": [
      "[0]\ttrain-rmse:746.751\tvalid-rmse:747.171\n",
      "Multiple eval metrics have been passed: 'valid-rmse' will be used for early stopping.\n",
      "\n",
      "Will train until valid-rmse hasn't improved in 50 rounds.\n",
      "[10]\ttrain-rmse:321.927\tvalid-rmse:337.538\n",
      "[20]\ttrain-rmse:285.21\tvalid-rmse:308.07\n",
      "[30]\ttrain-rmse:272.11\tvalid-rmse:301.677\n",
      "[40]\ttrain-rmse:263.438\tvalid-rmse:297.984\n",
      "[50]\ttrain-rmse:257.834\tvalid-rmse:295.937\n",
      "[60]\ttrain-rmse:254.059\tvalid-rmse:295.411\n",
      "[70]\ttrain-rmse:252.119\tvalid-rmse:295.059\n",
      "[80]\ttrain-rmse:248.386\tvalid-rmse:294.325\n",
      "[90]\ttrain-rmse:246.219\tvalid-rmse:293.872\n",
      "[100]\ttrain-rmse:244.018\tvalid-rmse:294.053\n",
      "[110]\ttrain-rmse:241.14\tvalid-rmse:293.972\n",
      "[120]\ttrain-rmse:238.797\tvalid-rmse:294.385\n",
      "[130]\ttrain-rmse:235.911\tvalid-rmse:294.107\n",
      "[140]\ttrain-rmse:234.081\tvalid-rmse:293.735\n",
      "[150]\ttrain-rmse:232.44\tvalid-rmse:293.735\n",
      "[160]\ttrain-rmse:230.775\tvalid-rmse:293.845\n",
      "[170]\ttrain-rmse:228.572\tvalid-rmse:294.198\n",
      "[180]\ttrain-rmse:226.93\tvalid-rmse:294.26\n",
      "[190]\ttrain-rmse:224.473\tvalid-rmse:294.509\n",
      "[200]\ttrain-rmse:222.447\tvalid-rmse:294.701\n",
      "Stopping. Best iteration:\n",
      "[152]\ttrain-rmse:232.259\tvalid-rmse:293.628\n",
      "\n"
     ]
    }
   ],
   "source": [
    "#execute the XGB model, and apply early stop mechanism\n",
    "xgb_model = xgb.train(xgb_pars, dtrain, 1000, watchlist, early_stopping_rounds=50,\n",
    "                      maximize=False, verbose_eval=10)"
   ]
  },
  {
   "cell_type": "code",
   "execution_count": 48,
   "metadata": {
    "colab": {
     "base_uri": "https://localhost:8080/",
     "height": 80
    },
    "colab_type": "code",
    "id": "vyyM3xvRRHbd",
    "outputId": "0d8cacdf-d4af-4ed1-a9e4-5e39077e24c5"
   },
   "outputs": [
    {
     "data": {
      "text/html": [
       "<div>\n",
       "<style scoped>\n",
       "    .dataframe tbody tr th:only-of-type {\n",
       "        vertical-align: middle;\n",
       "    }\n",
       "\n",
       "    .dataframe tbody tr th {\n",
       "        vertical-align: top;\n",
       "    }\n",
       "\n",
       "    .dataframe thead th {\n",
       "        text-align: right;\n",
       "    }\n",
       "</style>\n",
       "<table border=\"1\" class=\"dataframe\">\n",
       "  <thead>\n",
       "    <tr style=\"text-align: right;\">\n",
       "      <th></th>\n",
       "      <th>R2</th>\n",
       "      <th>RMSE</th>\n",
       "      <th>RMSLE</th>\n",
       "    </tr>\n",
       "  </thead>\n",
       "  <tbody>\n",
       "    <tr>\n",
       "      <th>0</th>\n",
       "      <td>0.748529</td>\n",
       "      <td>294.256242</td>\n",
       "      <td>0.400255</td>\n",
       "    </tr>\n",
       "  </tbody>\n",
       "</table>\n",
       "</div>"
      ],
      "text/plain": [
       "         R2        RMSE     RMSLE\n",
       "0  0.748529  294.256242  0.400255"
      ]
     },
     "execution_count": 48,
     "metadata": {
      "tags": []
     },
     "output_type": "execute_result"
    }
   ],
   "source": [
    "#display the r square, RMSE, and RMSLE score for XGB model\n",
    "Y_pred = xgb_model.predict(dtest)\n",
    "r2_v = r2_score(Y_test,Y_pred)\n",
    "rmse_v = math.sqrt(mean_squared_error(Y_test,Y_pred))\n",
    "rmsle_v = rmsle(Y_test.values,Y_pred)\n",
    "\n",
    "pd.DataFrame({'R2':[r2_v],'RMSE':[rmse_v],'RMSLE':[rmsle_v]})"
   ]
  },
  {
   "cell_type": "code",
   "execution_count": 49,
   "metadata": {
    "colab": {
     "base_uri": "https://localhost:8080/",
     "height": 1791
    },
    "colab_type": "code",
    "id": "OxGeZc3qRJYA",
    "outputId": "589230e9-583f-44f0-ac3f-a099dbf6e901"
   },
   "outputs": [
    {
     "data": {
      "text/html": [
       "<div>\n",
       "<style scoped>\n",
       "    .dataframe tbody tr th:only-of-type {\n",
       "        vertical-align: middle;\n",
       "    }\n",
       "\n",
       "    .dataframe tbody tr th {\n",
       "        vertical-align: top;\n",
       "    }\n",
       "\n",
       "    .dataframe thead th {\n",
       "        text-align: right;\n",
       "    }\n",
       "</style>\n",
       "<table border=\"1\" class=\"dataframe\">\n",
       "  <thead>\n",
       "    <tr style=\"text-align: right;\">\n",
       "      <th></th>\n",
       "      <th>feature name</th>\n",
       "      <th>importance</th>\n",
       "    </tr>\n",
       "  </thead>\n",
       "  <tbody>\n",
       "    <tr>\n",
       "      <th>25</th>\n",
       "      <td>pca0</td>\n",
       "      <td>2284</td>\n",
       "    </tr>\n",
       "    <tr>\n",
       "      <th>1</th>\n",
       "      <td>pca1</td>\n",
       "      <td>2217</td>\n",
       "    </tr>\n",
       "    <tr>\n",
       "      <th>13</th>\n",
       "      <td>euc_distance</td>\n",
       "      <td>2052</td>\n",
       "    </tr>\n",
       "    <tr>\n",
       "      <th>0</th>\n",
       "      <td>hav_distance</td>\n",
       "      <td>1718</td>\n",
       "    </tr>\n",
       "    <tr>\n",
       "      <th>34</th>\n",
       "      <td>temp</td>\n",
       "      <td>1209</td>\n",
       "    </tr>\n",
       "    <tr>\n",
       "      <th>2</th>\n",
       "      <td>min</td>\n",
       "      <td>1061</td>\n",
       "    </tr>\n",
       "    <tr>\n",
       "      <th>14</th>\n",
       "      <td>wdsp</td>\n",
       "      <td>999</td>\n",
       "    </tr>\n",
       "    <tr>\n",
       "      <th>36</th>\n",
       "      <td>max</td>\n",
       "      <td>910</td>\n",
       "    </tr>\n",
       "    <tr>\n",
       "      <th>40</th>\n",
       "      <td>visib</td>\n",
       "      <td>755</td>\n",
       "    </tr>\n",
       "    <tr>\n",
       "      <th>3</th>\n",
       "      <td>gust</td>\n",
       "      <td>527</td>\n",
       "    </tr>\n",
       "    <tr>\n",
       "      <th>47</th>\n",
       "      <td>prcp</td>\n",
       "      <td>461</td>\n",
       "    </tr>\n",
       "    <tr>\n",
       "      <th>46</th>\n",
       "      <td>vendor_id_1</td>\n",
       "      <td>424</td>\n",
       "    </tr>\n",
       "    <tr>\n",
       "      <th>5</th>\n",
       "      <td>passenger_count</td>\n",
       "      <td>246</td>\n",
       "    </tr>\n",
       "    <tr>\n",
       "      <th>17</th>\n",
       "      <td>vendor_id_2</td>\n",
       "      <td>240</td>\n",
       "    </tr>\n",
       "    <tr>\n",
       "      <th>29</th>\n",
       "      <td>day_7</td>\n",
       "      <td>150</td>\n",
       "    </tr>\n",
       "    <tr>\n",
       "      <th>33</th>\n",
       "      <td>rain_drizzle</td>\n",
       "      <td>146</td>\n",
       "    </tr>\n",
       "    <tr>\n",
       "      <th>26</th>\n",
       "      <td>day_1</td>\n",
       "      <td>133</td>\n",
       "    </tr>\n",
       "    <tr>\n",
       "      <th>9</th>\n",
       "      <td>sndp</td>\n",
       "      <td>128</td>\n",
       "    </tr>\n",
       "    <tr>\n",
       "      <th>4</th>\n",
       "      <td>day_4</td>\n",
       "      <td>128</td>\n",
       "    </tr>\n",
       "    <tr>\n",
       "      <th>6</th>\n",
       "      <td>day_5</td>\n",
       "      <td>127</td>\n",
       "    </tr>\n",
       "    <tr>\n",
       "      <th>22</th>\n",
       "      <td>day_6</td>\n",
       "      <td>126</td>\n",
       "    </tr>\n",
       "    <tr>\n",
       "      <th>7</th>\n",
       "      <td>hour_12</td>\n",
       "      <td>113</td>\n",
       "    </tr>\n",
       "    <tr>\n",
       "      <th>16</th>\n",
       "      <td>hour_15</td>\n",
       "      <td>104</td>\n",
       "    </tr>\n",
       "    <tr>\n",
       "      <th>24</th>\n",
       "      <td>day_2</td>\n",
       "      <td>101</td>\n",
       "    </tr>\n",
       "    <tr>\n",
       "      <th>18</th>\n",
       "      <td>hour_13</td>\n",
       "      <td>100</td>\n",
       "    </tr>\n",
       "    <tr>\n",
       "      <th>30</th>\n",
       "      <td>hour_8</td>\n",
       "      <td>99</td>\n",
       "    </tr>\n",
       "    <tr>\n",
       "      <th>43</th>\n",
       "      <td>month_5</td>\n",
       "      <td>95</td>\n",
       "    </tr>\n",
       "    <tr>\n",
       "      <th>19</th>\n",
       "      <td>hour_14</td>\n",
       "      <td>93</td>\n",
       "    </tr>\n",
       "    <tr>\n",
       "      <th>41</th>\n",
       "      <td>hour_9</td>\n",
       "      <td>93</td>\n",
       "    </tr>\n",
       "    <tr>\n",
       "      <th>45</th>\n",
       "      <td>hour_19</td>\n",
       "      <td>87</td>\n",
       "    </tr>\n",
       "    <tr>\n",
       "      <th>38</th>\n",
       "      <td>hour_22</td>\n",
       "      <td>85</td>\n",
       "    </tr>\n",
       "    <tr>\n",
       "      <th>37</th>\n",
       "      <td>day_3</td>\n",
       "      <td>84</td>\n",
       "    </tr>\n",
       "    <tr>\n",
       "      <th>50</th>\n",
       "      <td>hour_16</td>\n",
       "      <td>82</td>\n",
       "    </tr>\n",
       "    <tr>\n",
       "      <th>39</th>\n",
       "      <td>month_4</td>\n",
       "      <td>82</td>\n",
       "    </tr>\n",
       "    <tr>\n",
       "      <th>15</th>\n",
       "      <td>month_6</td>\n",
       "      <td>79</td>\n",
       "    </tr>\n",
       "    <tr>\n",
       "      <th>11</th>\n",
       "      <td>hour_1</td>\n",
       "      <td>76</td>\n",
       "    </tr>\n",
       "    <tr>\n",
       "      <th>35</th>\n",
       "      <td>hour_18</td>\n",
       "      <td>75</td>\n",
       "    </tr>\n",
       "    <tr>\n",
       "      <th>8</th>\n",
       "      <td>hour_0</td>\n",
       "      <td>75</td>\n",
       "    </tr>\n",
       "    <tr>\n",
       "      <th>49</th>\n",
       "      <td>hour_7</td>\n",
       "      <td>69</td>\n",
       "    </tr>\n",
       "    <tr>\n",
       "      <th>53</th>\n",
       "      <td>month_3</td>\n",
       "      <td>68</td>\n",
       "    </tr>\n",
       "    <tr>\n",
       "      <th>31</th>\n",
       "      <td>month_2</td>\n",
       "      <td>68</td>\n",
       "    </tr>\n",
       "    <tr>\n",
       "      <th>21</th>\n",
       "      <td>hour_17</td>\n",
       "      <td>68</td>\n",
       "    </tr>\n",
       "    <tr>\n",
       "      <th>10</th>\n",
       "      <td>hour_20</td>\n",
       "      <td>67</td>\n",
       "    </tr>\n",
       "    <tr>\n",
       "      <th>32</th>\n",
       "      <td>month_1</td>\n",
       "      <td>65</td>\n",
       "    </tr>\n",
       "    <tr>\n",
       "      <th>27</th>\n",
       "      <td>hour_10</td>\n",
       "      <td>65</td>\n",
       "    </tr>\n",
       "    <tr>\n",
       "      <th>20</th>\n",
       "      <td>hour_23</td>\n",
       "      <td>57</td>\n",
       "    </tr>\n",
       "    <tr>\n",
       "      <th>51</th>\n",
       "      <td>hour_21</td>\n",
       "      <td>53</td>\n",
       "    </tr>\n",
       "    <tr>\n",
       "      <th>48</th>\n",
       "      <td>hour_11</td>\n",
       "      <td>51</td>\n",
       "    </tr>\n",
       "    <tr>\n",
       "      <th>12</th>\n",
       "      <td>hour_3</td>\n",
       "      <td>39</td>\n",
       "    </tr>\n",
       "    <tr>\n",
       "      <th>28</th>\n",
       "      <td>hour_2</td>\n",
       "      <td>37</td>\n",
       "    </tr>\n",
       "    <tr>\n",
       "      <th>52</th>\n",
       "      <td>hour_6</td>\n",
       "      <td>33</td>\n",
       "    </tr>\n",
       "    <tr>\n",
       "      <th>44</th>\n",
       "      <td>snow_ice_pellets</td>\n",
       "      <td>32</td>\n",
       "    </tr>\n",
       "    <tr>\n",
       "      <th>54</th>\n",
       "      <td>fog</td>\n",
       "      <td>30</td>\n",
       "    </tr>\n",
       "    <tr>\n",
       "      <th>42</th>\n",
       "      <td>hour_5</td>\n",
       "      <td>26</td>\n",
       "    </tr>\n",
       "    <tr>\n",
       "      <th>23</th>\n",
       "      <td>hour_4</td>\n",
       "      <td>26</td>\n",
       "    </tr>\n",
       "    <tr>\n",
       "      <th>55</th>\n",
       "      <td>store_and_fwd_flag</td>\n",
       "      <td>13</td>\n",
       "    </tr>\n",
       "  </tbody>\n",
       "</table>\n",
       "</div>"
      ],
      "text/plain": [
       "          feature name  importance\n",
       "25                pca0        2284\n",
       "1                 pca1        2217\n",
       "13        euc_distance        2052\n",
       "0         hav_distance        1718\n",
       "34                temp        1209\n",
       "2                  min        1061\n",
       "14                wdsp         999\n",
       "36                 max         910\n",
       "40               visib         755\n",
       "3                 gust         527\n",
       "47                prcp         461\n",
       "46         vendor_id_1         424\n",
       "5      passenger_count         246\n",
       "17         vendor_id_2         240\n",
       "29               day_7         150\n",
       "33        rain_drizzle         146\n",
       "26               day_1         133\n",
       "9                 sndp         128\n",
       "4                day_4         128\n",
       "6                day_5         127\n",
       "22               day_6         126\n",
       "7              hour_12         113\n",
       "16             hour_15         104\n",
       "24               day_2         101\n",
       "18             hour_13         100\n",
       "30              hour_8          99\n",
       "43             month_5          95\n",
       "19             hour_14          93\n",
       "41              hour_9          93\n",
       "45             hour_19          87\n",
       "38             hour_22          85\n",
       "37               day_3          84\n",
       "50             hour_16          82\n",
       "39             month_4          82\n",
       "15             month_6          79\n",
       "11              hour_1          76\n",
       "35             hour_18          75\n",
       "8               hour_0          75\n",
       "49              hour_7          69\n",
       "53             month_3          68\n",
       "31             month_2          68\n",
       "21             hour_17          68\n",
       "10             hour_20          67\n",
       "32             month_1          65\n",
       "27             hour_10          65\n",
       "20             hour_23          57\n",
       "51             hour_21          53\n",
       "48             hour_11          51\n",
       "12              hour_3          39\n",
       "28              hour_2          37\n",
       "52              hour_6          33\n",
       "44    snow_ice_pellets          32\n",
       "54                 fog          30\n",
       "42              hour_5          26\n",
       "23              hour_4          26\n",
       "55  store_and_fwd_flag          13"
      ]
     },
     "execution_count": 49,
     "metadata": {
      "tags": []
     },
     "output_type": "execute_result"
    }
   ],
   "source": [
    "#generate feature importance table to see which feature has higher importance in prediction\n",
    "feature_importance_dict = xgb_model.get_fscore()\n",
    "\n",
    "feature_importance = pd.DataFrame({'feature name':list(feature_importance_dict.keys()),\n",
    "                                   'importance':list(feature_importance_dict.values())})\n",
    "\n",
    "feature_importance.sort_values(by='importance', ascending=False)"
   ]
  },
  {
   "cell_type": "markdown",
   "metadata": {},
   "source": [
    "from the table we can see that the PCA has highest feature importance, then followed by two distance. this make sense since distance is heavily correlated to trip duration"
   ]
  },
  {
   "cell_type": "markdown",
   "metadata": {
    "colab_type": "text",
    "id": "gjwWmqB4ROUX"
   },
   "source": [
    "### Linear Regression"
   ]
  },
  {
   "cell_type": "code",
   "execution_count": 50,
   "metadata": {
    "colab": {
     "base_uri": "https://localhost:8080/",
     "height": 80
    },
    "colab_type": "code",
    "id": "xhof5JrLRLD-",
    "outputId": "ee867696-86de-408d-8c5c-965b8fcfe90f"
   },
   "outputs": [
    {
     "data": {
      "text/html": [
       "<div>\n",
       "<style scoped>\n",
       "    .dataframe tbody tr th:only-of-type {\n",
       "        vertical-align: middle;\n",
       "    }\n",
       "\n",
       "    .dataframe tbody tr th {\n",
       "        vertical-align: top;\n",
       "    }\n",
       "\n",
       "    .dataframe thead th {\n",
       "        text-align: right;\n",
       "    }\n",
       "</style>\n",
       "<table border=\"1\" class=\"dataframe\">\n",
       "  <thead>\n",
       "    <tr style=\"text-align: right;\">\n",
       "      <th></th>\n",
       "      <th>R2</th>\n",
       "      <th>RMSE</th>\n",
       "      <th>RMSLE</th>\n",
       "    </tr>\n",
       "  </thead>\n",
       "  <tbody>\n",
       "    <tr>\n",
       "      <th>0</th>\n",
       "      <td>0.632128</td>\n",
       "      <td>355.901929</td>\n",
       "      <td>0.484851</td>\n",
       "    </tr>\n",
       "  </tbody>\n",
       "</table>\n",
       "</div>"
      ],
      "text/plain": [
       "         R2        RMSE     RMSLE\n",
       "0  0.632128  355.901929  0.484851"
      ]
     },
     "execution_count": 50,
     "metadata": {
      "tags": []
     },
     "output_type": "execute_result"
    }
   ],
   "source": [
    "#apply linear regression model to the data\n",
    "linear_model = LinearRegression()\n",
    "linear_model.fit(X_train,Y_train)\n",
    "#display the r square, RMSE, and RMSLE score for linear regression model\n",
    "Y_pred = linear_model.predict(X_test)\n",
    "r2_v = r2_score(Y_test,Y_pred)\n",
    "rmse_v = math.sqrt(mean_squared_error(Y_test,Y_pred))\n",
    "rmsle_v = rmsle(Y_test.values,Y_pred)\n",
    "\n",
    "pd.DataFrame({'R2':[r2_v],'RMSE':[rmse_v],'RMSLE':[rmsle_v]})"
   ]
  },
  {
   "cell_type": "markdown",
   "metadata": {
    "colab_type": "text",
    "id": "82yz7og5RQVh"
   },
   "source": [
    "### Random Forest Model"
   ]
  },
  {
   "cell_type": "code",
   "execution_count": 51,
   "metadata": {
    "colab": {
     "base_uri": "https://localhost:8080/",
     "height": 80
    },
    "colab_type": "code",
    "id": "568r7zUwRUlM",
    "outputId": "5801fe1f-ca89-43e3-e138-10c48b7c9565"
   },
   "outputs": [
    {
     "data": {
      "text/html": [
       "<div>\n",
       "<style scoped>\n",
       "    .dataframe tbody tr th:only-of-type {\n",
       "        vertical-align: middle;\n",
       "    }\n",
       "\n",
       "    .dataframe tbody tr th {\n",
       "        vertical-align: top;\n",
       "    }\n",
       "\n",
       "    .dataframe thead th {\n",
       "        text-align: right;\n",
       "    }\n",
       "</style>\n",
       "<table border=\"1\" class=\"dataframe\">\n",
       "  <thead>\n",
       "    <tr style=\"text-align: right;\">\n",
       "      <th></th>\n",
       "      <th>R2</th>\n",
       "      <th>RMSE</th>\n",
       "      <th>RMSLE</th>\n",
       "    </tr>\n",
       "  </thead>\n",
       "  <tbody>\n",
       "    <tr>\n",
       "      <th>0</th>\n",
       "      <td>0.655288</td>\n",
       "      <td>344.516421</td>\n",
       "      <td>0.428923</td>\n",
       "    </tr>\n",
       "  </tbody>\n",
       "</table>\n",
       "</div>"
      ],
      "text/plain": [
       "         R2        RMSE     RMSLE\n",
       "0  0.655288  344.516421  0.428923"
      ]
     },
     "execution_count": 51,
     "metadata": {
      "tags": []
     },
     "output_type": "execute_result"
    }
   ],
   "source": [
    "#apply random forest model to the data\n",
    "rf_model = RandomForestRegressor(n_estimators=100, random_state=0, max_depth=5)\n",
    "rf_model.fit(X_train,Y_train)\n",
    "#display the r square, RMSE, and RMSLE score for random forest model\n",
    "Y_pred = rf_model.predict(X_test)\n",
    "r2_v = r2_score(Y_test,Y_pred)\n",
    "rmse_v = math.sqrt(mean_squared_error(Y_test,Y_pred))\n",
    "rmsle_v = rmsle(Y_test.values,Y_pred)\n",
    "\n",
    "pd.DataFrame({'R2':[r2_v],'RMSE':[rmse_v],'RMSLE':[rmsle_v]})"
   ]
  },
  {
   "cell_type": "markdown",
   "metadata": {},
   "source": [
    "## conclusion:\n",
    "\n",
    "we found that XGB model actualy has highest prediction accuracy in terms of r square, RMSE and RMSLE score among three models we apply."
   ]
  },
  {
   "cell_type": "code",
   "execution_count": null,
   "metadata": {},
   "outputs": [],
   "source": []
  }
 ],
 "metadata": {
  "colab": {
   "collapsed_sections": [],
   "name": "NYC Taxi Trip Duration(commented_1).ipynb",
   "provenance": [],
   "version": "0.3.2"
  },
  "kernelspec": {
   "display_name": "Python 3",
   "language": "python",
   "name": "python3"
  },
  "language_info": {
   "codemirror_mode": {
    "name": "ipython",
    "version": 3
   },
   "file_extension": ".py",
   "mimetype": "text/x-python",
   "name": "python",
   "nbconvert_exporter": "python",
   "pygments_lexer": "ipython3",
   "version": "3.6.8"
  }
 },
 "nbformat": 4,
 "nbformat_minor": 1
}
